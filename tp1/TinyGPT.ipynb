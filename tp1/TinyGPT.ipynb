{
  "cells": [
    {
      "cell_type": "markdown",
      "id": "059fdb12",
      "metadata": {
        "id": "059fdb12"
      },
      "source": [
        "# TinyGPT\n",
        "\n",
        "**Author: Abraham R.**\n",
        "\n",
        "The following notebook is an example of a really tiny GPT based model called TinyGPT.\n",
        "You'll review the GPT architecture (transformer decoder) and implement the following tasks:\n",
        "\n",
        "## TinyGPT Architecture\n",
        "\n",
        "Tailored for the [NLP-II course](https://github.com/FIUBA-Posgrado-Inteligencia-Artificial/CEIA-LLMIAG) as we deal with architectures and theory, this model consists of a **Mixture of Experts GPT**, equivalent to models like:\n",
        "- DeepSeek\n",
        "- Mistral\n",
        "\n",
        "## Tasks\n",
        "\n",
        "Using TinyGPT you need to implement the following modifications:\n",
        "\n",
        "\n",
        "## Inference: Modify the generate function to:\n",
        "- Greedy decoding (pick max probability token).\n",
        "- Temperature sampling.\n",
        "- top-k or top-p sampling.\n",
        "\n",
        "### References\n",
        "- [huggingface generate](https://huggingface.co/docs/transformers/main_classes/text_generation)\n",
        "\n",
        "## Architecture:\n",
        "- Make TinyGPT a Mixture of Experts (MoE) of at least 2 experts.\n",
        "\n",
        "## What to expect?\n",
        "\n",
        "- You'll manage to understand a depth implementation of a GPT model.\n",
        "- Implement a MoE Layer to create a state-of-the art GPT model.\n",
        "- Explore decoding algorithms for text generation.\n",
        "\n",
        "\n",
        "### NOTE\n",
        "\n",
        "Tokenization is out of scope, we'll use a simple yet ineffective character-based tokenizer.\n"
      ]
    },
    {
      "cell_type": "code",
      "execution_count": 106,
      "id": "f06f210b",
      "metadata": {
        "id": "f06f210b"
      },
      "outputs": [],
      "source": [
        "import os\n",
        "import math\n",
        "import time\n",
        "import torch\n",
        "import httpx\n",
        "import warnings\n",
        "import pandas as pd\n",
        "import torch.nn.functional as F\n",
        "import matplotlib.pyplot as plt\n",
        "\n",
        "from torch import nn\n",
        "from torch.optim import AdamW\n",
        "from typing import Optional, List, Type\n",
        "from dataclasses import dataclass, field\n",
        "from torch.optim.lr_scheduler import StepLR, CosineAnnealingLR\n",
        "from torch.utils.data import Dataset, DataLoader\n",
        "\n",
        "from trainer import Trainer"
      ]
    },
    {
      "cell_type": "code",
      "execution_count": 107,
      "id": "e92213cc",
      "metadata": {},
      "outputs": [],
      "source": [
        "# Suppress specific warnings\n",
        "warnings.filterwarnings(\"ignore\", message=\"Online softmax is disabled on the fly\")\n",
        "warnings.filterwarnings(\"ignore\", message=\"Not enough SMs to use max_autotune_gemm mode\")"
      ]
    },
    {
      "cell_type": "markdown",
      "id": "f7b2f067",
      "metadata": {
        "id": "f7b2f067"
      },
      "source": [
        "## Downloading Dataset"
      ]
    },
    {
      "cell_type": "code",
      "execution_count": null,
      "id": "afc77182",
      "metadata": {
        "id": "afc77182"
      },
      "outputs": [
        {
          "name": "stdout",
          "output_type": "stream",
          "text": [
            "Downloaded 1115394 characters from https://raw.githubusercontent.com/karpathy/char-rnn/master/data/tinyshakespeare/input.txt\n",
            "\n",
            "Sample:\n",
            "First Citizen:\n",
            "Before we proceed any further, hear me speak.\n",
            "\n",
            "All:\n",
            "Speak, speak.\n",
            "\n",
            "First Citizen:\n",
            "You are all resolved rather to die than to famish?\n",
            "\n",
            "All:\n",
            "Resolved. resolved.\n",
            "\n",
            "First Citizen:\n",
            "First, you know Caius Marcius is chief enemy to the people.\n",
            "\n"
          ]
        }
      ],
      "source": [
        "url = \"https://raw.githubusercontent.com/karpathy/char-rnn/master/data/tinyshakespeare/input.txt\"\n",
        "response = httpx.get(url)\n",
        "text = response.text\n",
        "\n",
        "print(f\"Downloaded {len(text)} characters from {url}\\n\")\n",
        "\n",
        "# Save the text to a file\n",
        "if not os.path.exists(\"./docs\"):\n",
        "    os.makedirs(\"./docs\")\n",
        "with open(\"./docs/tinyshakespeare.txt\", \"w\") as f:\n",
        "    f.write(text)\n",
        "\n",
        "print(f'Sample:\\n{text[:250]}')"
      ]
    },
    {
      "cell_type": "markdown",
      "id": "2c3d4bf6",
      "metadata": {
        "id": "2c3d4bf6"
      },
      "source": [
        "## Character-based encoding"
      ]
    },
    {
      "cell_type": "markdown",
      "id": "c788c4d5",
      "metadata": {},
      "source": [
        "`SimpleCharTokenizer` implementa un tokenizador simple basado en caracteres individuales. Su propósito es transformar texto plano en una secuencia de IDs numéricos (tokens) y viceversa, lo cual es necesario para poder alimentar texto al modelo TinyGPT.\n",
        "\n",
        "#### Funcionamiento:\n",
        "\n",
        "- Al inicializar el tokenizador con un corpus (`text`), se construye un vocabulario único a partir de todos los caracteres distintos presentes en el texto.\n",
        "- Se definen dos diccionarios:\n",
        "  - `stoi` (string to index): asigna a cada carácter su índice único.\n",
        "  - `itos` (index to string): permite recuperar el carácter original desde su índice.\n",
        "- El método `encode(text_string)` convierte una cadena en una lista de IDs enteros, uno por carácter.\n",
        "- El método `decode(token_ids)` reconstruye la cadena original a partir de una lista de IDs.\n",
        "\n",
        "> **Nota:** Este enfoque es limitado ya que trabaja a nivel de caracteres sin entender palabras, contextos ni estructuras gramaticales."
      ]
    },
    {
      "cell_type": "code",
      "execution_count": 109,
      "id": "51a6e4a6",
      "metadata": {},
      "outputs": [],
      "source": [
        "class SimpleCharTokenizer:\n",
        "    \"\"\"\n",
        "    A simple character-level tokenizer that handles encoding and decoding.\n",
        "    This class builds a vocabulary from a given text and provides methods\n",
        "    to convert strings to token IDs and vice-versa.\n",
        "    \"\"\"\n",
        "    def __init__(self, text: str):\n",
        "        \"\"\"\n",
        "        Initializes the tokenizer and builds the vocabulary.\n",
        "\n",
        "        Args:\n",
        "            text (str): The corpus to build the vocabulary from.\n",
        "        \"\"\"\n",
        "        self.chars = sorted(list(set(text)))\n",
        "        self.vocab_size = len(self.chars)\n",
        "        self.stoi = {char: i for i, char in enumerate(self.chars)}\n",
        "        self.itos = {i: char for char, i in self.stoi.items()}\n",
        "\n",
        "    def encode(self, text_string: str) -> list[int]:\n",
        "        \"\"\"\n",
        "        Encodes a string into a list of integer token IDs.\n",
        "\n",
        "        Args:\n",
        "            text_string (str): The input string to encode.\n",
        "\n",
        "        Returns:\n",
        "            list[int]: A list of corresponding token IDs.\n",
        "        \"\"\"\n",
        "        return [self.stoi[char] for char in text_string]\n",
        "\n",
        "    def decode(self, token_ids: list[int]) -> str:\n",
        "        \"\"\"\n",
        "        Decodes a list of integer token IDs back into a string.\n",
        "\n",
        "        Args:\n",
        "            token_ids (list[int]): The list of token IDs to decode.\n",
        "\n",
        "        Returns:\n",
        "            str: The resulting decoded string.\n",
        "        \"\"\"\n",
        "        return ''.join([self.itos[token_id] for token_id in token_ids])"
      ]
    },
    {
      "cell_type": "code",
      "execution_count": 110,
      "id": "9534ad30",
      "metadata": {
        "id": "9534ad30"
      },
      "outputs": [],
      "source": [
        "tokenizer = SimpleCharTokenizer(text)\n",
        "\n",
        "vocab_size = tokenizer.vocab_size\n",
        "data = torch.tensor(tokenizer.encode(text), dtype=torch.long)\n",
        "\n",
        "# Train/test split\n",
        "split = int(0.9 * len(data))\n",
        "train_data = data[:split]\n",
        "val_data = data[split:]"
      ]
    },
    {
      "cell_type": "markdown",
      "id": "24d8724e",
      "metadata": {
        "id": "24d8724e"
      },
      "source": [
        "## GPT Configuration"
      ]
    },
    {
      "cell_type": "markdown",
      "id": "14024cff",
      "metadata": {},
      "source": [
        "#### `MoEArgs`"
      ]
    },
    {
      "cell_type": "markdown",
      "id": "bd54bf81",
      "metadata": {},
      "source": [
        "Define los parámetros específicos para una capa **Mixture of Experts (MoE)**:\n",
        "- `num_experts`: cantidad total de expertos disponibles.\n",
        "- `num_experts_per_token`: número de expertos que se activan por cada token de entrada.\n",
        "\n",
        "Estos parámetros serán utilizados para controlar cómo se enrutan los tokens a los distintos expertos durante el forward pass."
      ]
    },
    {
      "cell_type": "code",
      "execution_count": 111,
      "id": "412ec5c8",
      "metadata": {
        "id": "412ec5c8"
      },
      "outputs": [],
      "source": [
        "@dataclass\n",
        "class MoEArgs():\n",
        "    \"\"\"\n",
        "    MoE input arguments class.\n",
        "    \"\"\"\n",
        "    num_experts : int = field(default=4)\n",
        "    num_experts_per_token : int = field(default=2)"
      ]
    },
    {
      "cell_type": "markdown",
      "id": "f024e35a",
      "metadata": {},
      "source": [
        "#### `GPTConfig`"
      ]
    },
    {
      "cell_type": "markdown",
      "id": "8dda1560",
      "metadata": {},
      "source": [
        "Es la configuración principal del modelo GPT:\n",
        "- `block_size`: tamaño de la secuencia de entrada (ventana de contexto).\n",
        "- `batch_size`: cantidad de muestras por batch.\n",
        "- `n_embd`: dimensión de los embeddings.\n",
        "- `n_head`: número de *heads* de atención en cada capa.\n",
        "- `n_layer`: cantidad de capas transformer.\n",
        "- `dropout`: proporción de *dropout* aplicada durante el entrenamiento.\n",
        "- `vocab_size`: tamaño del vocabulario (debe coincidir con el tokenizador).\n",
        "- `bias`: indica si se usan biases en las capas lineales.\n",
        "- `ff_class`: clase opcional que define la capa feed-forward (permite usar una capa MoE).\n",
        "- `moe`: objeto `MoEArgs` que habilita y parametriza una capa MoE."
      ]
    },
    {
      "cell_type": "code",
      "execution_count": 112,
      "id": "f8f05e7b",
      "metadata": {},
      "outputs": [],
      "source": [
        "@dataclass\n",
        "class GPTConfig:\n",
        "    \"\"\"\n",
        "    Base class for GPT models.\n",
        "    \"\"\"\n",
        "    block_size: int = 32\n",
        "    batch_size: int = 512\n",
        "    n_embd: int = 64\n",
        "    n_head: int = 4\n",
        "    n_layer: int = 2\n",
        "    dropout: float = 0.1\n",
        "    vocab_size: int = vocab_size\n",
        "    bias: bool = True\n",
        "    ff_class: Optional[Type[nn.Module]] = None\n",
        "    moe : Optional[MoEArgs] = None"
      ]
    },
    {
      "cell_type": "code",
      "execution_count": 113,
      "id": "32817b49",
      "metadata": {},
      "outputs": [
        {
          "name": "stdout",
          "output_type": "stream",
          "text": [
            "{'block_size': 32, 'batch_size': 512, 'n_embd': 64, 'n_head': 4, 'n_layer': 2, 'dropout': 0.1, 'vocab_size': 65, 'bias': True, 'ff_class': None, 'moe': None}\n"
          ]
        }
      ],
      "source": [
        "config = GPTConfig()\n",
        "print(config.__dict__)"
      ]
    },
    {
      "cell_type": "markdown",
      "id": "3422cce7",
      "metadata": {},
      "source": [
        "## Creación de datasets y dataloaders"
      ]
    },
    {
      "cell_type": "markdown",
      "id": "771a71b2",
      "metadata": {},
      "source": [
        "La clase `CharDataset` define un `Dataset` custom de PyTorch para entrenar modelos de lenguaje autoregresivos a nivel carácter. Recibe como entrada un `Tensor` unidimensional con los IDs de tokens (generados por el tokenizador) y construye pares entrada-objetivo adecuados para entrenamiento.\n",
        "\n",
        "#### Funcionamiento:\n",
        "\n",
        "- **Inicialización (`__init__`)**:  \n",
        "  Se recibe el corpus como un `Tensor` de IDs de caracteres (`data`) y un `block_size` que define el tamaño de ventana de contexto que se le mostrará al modelo.\n",
        "\n",
        "- **Longitud (`__len__`)**:  \n",
        "  Calcula cuántas secuencias de entrenamiento se pueden extraer del corpus. Como cada par entrada-objetivo usa `block_size + 1` posiciones, el total de muestras posibles es `len(data) - block_size`.\n",
        "\n",
        "- **Acceso a muestras (`__getitem__`)**:  \n",
        "  Dado un índice `idx`, se devuelve un par:\n",
        "  - `x`: secuencia de entrada de longitud `block_size`.\n",
        "  - `y`: misma secuencia desplazada una posición a la derecha, que representa el objetivo de predicción siguiente carácter a carácter.\n",
        "\n",
        "Este esquema es estándar para tareas de modelado de lenguaje autoregresivo, donde se entrena al modelo para predecir el próximo token dado un historial previo."
      ]
    },
    {
      "cell_type": "code",
      "execution_count": 114,
      "id": "fd34fea4",
      "metadata": {},
      "outputs": [],
      "source": [
        "class CharDataset(Dataset):\n",
        "    \"\"\"\n",
        "    A PyTorch Dataset for character-level language modeling.\n",
        "\n",
        "    This dataset takes a long sequence of token IDs and creates overlapping\n",
        "    input-target pairs of a specified block size, suitable for training\n",
        "    autoregressive language models.\n",
        "    \"\"\"\n",
        "    def __init__(self, data: torch.Tensor, block_size: int):\n",
        "        \"\"\"\n",
        "        Initializes the dataset.\n",
        "\n",
        "        Args:\n",
        "            data (torch.Tensor): A 1D tensor of token IDs representing the entire corpus.\n",
        "            block_size (int): The sequence length for each input sample (context window).\n",
        "        \"\"\"\n",
        "        self.data = data\n",
        "        self.block_size = block_size\n",
        "\n",
        "    def __len__(self):\n",
        "        \"\"\"\n",
        "        Returns the total number of possible sequences in the dataset.\n",
        "\n",
        "        The length is calculated as the total number of tokens minus the `block_size`.\n",
        "        This is because the `__getitem__` method needs to access up to index\n",
        "        `idx + block_size` for the input `x` and `idx + block_size + 1` for the target `y`.\n",
        "        Subtracting `block_size` ensures that even for the last possible `idx`, we do\n",
        "        not go out of bounds when creating a sample.\n",
        "        \"\"\"\n",
        "        return len(self.data) - self.block_size\n",
        "\n",
        "    def __getitem__(self, idx):\n",
        "        \"\"\"\n",
        "        Retrieves a sample from the dataset at the given index.\n",
        "\n",
        "        Each sample consists of an input sequence (x) and a target sequence (y).\n",
        "        The target sequence is the input sequence shifted by one position to the right,\n",
        "        which is the standard for next-token prediction tasks.\n",
        "\n",
        "        Args:\n",
        "            idx (int): The starting index of the sequence in the data tensor.\n",
        "\n",
        "        Returns:\n",
        "            tuple[torch.Tensor, torch.Tensor]: A tuple containing the input\n",
        "            tensor (x) and the target tensor (y).\n",
        "        \"\"\"\n",
        "        x = self.data[idx : idx + self.block_size]\n",
        "        y = self.data[idx + 1 : idx + self.block_size + 1]\n",
        "        return x, y"
      ]
    },
    {
      "cell_type": "markdown",
      "id": "63fcf682",
      "metadata": {},
      "source": [
        "#### Datasets"
      ]
    },
    {
      "cell_type": "markdown",
      "id": "b7355bcc",
      "metadata": {},
      "source": [
        "Se instancian dos objetos `CharDataset`, uno para entrenamiento (`train_dataset`) y otro para validación (`val_dataset`), utilizando los tensores `train_data` y `val_data` junto con el tamaño de ventana `block_size` definido en `config`."
      ]
    },
    {
      "cell_type": "code",
      "execution_count": 115,
      "id": "b4101d8d",
      "metadata": {},
      "outputs": [],
      "source": [
        "train_dataset = CharDataset(train_data, config.block_size)\n",
        "val_dataset = CharDataset(val_data, config.block_size)"
      ]
    },
    {
      "cell_type": "markdown",
      "id": "52993453",
      "metadata": {},
      "source": [
        "#### DataLoaders"
      ]
    },
    {
      "cell_type": "markdown",
      "id": "5585ce74",
      "metadata": {},
      "source": [
        "Se crean `train_loader` y `val_loader`, que son los iteradores utilizados durante el entrenamiento del modelo:\n",
        "\n",
        "- `batch_size`: se toma de la configuración (`config.batch_size`).\n",
        "- `shuffle`: activado para entrenamiento (mezcla aleatoria de secuencias), desactivado para validación (evaluación determinista).\n",
        "- `drop_last`: descarta el último batch si es incompleto.\n",
        "- `pin_memory`: acelera la transferencia de datos al GPU.\n",
        "- `num_workers`: número de subprocesos para cargar datos."
      ]
    },
    {
      "cell_type": "code",
      "execution_count": 116,
      "id": "8693f574",
      "metadata": {
        "colab": {
          "base_uri": "https://localhost:8080/"
        },
        "id": "8693f574",
        "outputId": "265b2613-6a67-41a8-e0e8-56ed9d196f30"
      },
      "outputs": [],
      "source": [
        "train_loader = DataLoader(\n",
        "    train_dataset,\n",
        "    batch_size=config.batch_size,\n",
        "    shuffle=True,\n",
        "    drop_last=True,\n",
        "    pin_memory=True,\n",
        "    num_workers= 8, # if using mps set num_workers as 0.\n",
        ")\n",
        "val_loader = DataLoader(\n",
        "    val_dataset,\n",
        "    batch_size=config.batch_size,\n",
        "    shuffle=False,\n",
        "    drop_last=True,\n",
        "    pin_memory=True,\n",
        "    num_workers= 8,\n",
        ")"
      ]
    },
    {
      "cell_type": "markdown",
      "id": "c9f83f7a",
      "metadata": {},
      "source": [
        "## Módulo `AttentionHead`: Scaled Dot-Product"
      ]
    },
    {
      "cell_type": "markdown",
      "id": "878b537a",
      "metadata": {},
      "source": [
        "Este módulo implementa una **cabeza de atención** individual del mecanismo de atención múltiple (*Multi-Head Attention*) de los Transformers. Es la unidad básica encargada de calcular **atención causal** sobre una secuencia, lo que permite que cada token \"observe\" otros tokens anteriores y así incorporar contexto.\n",
        "\n",
        "#### Fundamento teórico\n",
        "\n",
        "La atención por producto punto escalado es una función que toma tres vectores por token: `query`, `key`, y `value`. La atención se calcula como:\n",
        "\n",
        "$$\n",
        "\\text{Attention}(Q, K, V) = \\text{softmax}\\left(\\frac{QK^\\top}{\\sqrt{d_k}}\\right)V\n",
        "$$\n",
        "\n",
        "Donde:\n",
        "\n",
        "- $Q \\in \\mathbb{R}^{T \\times d_k}$: vector de consulta.\n",
        "- $K \\in \\mathbb{R}^{T \\times d_k}$: vector clave.\n",
        "- $V \\in \\mathbb{R}^{T \\times d_v}$: vector valor.\n",
        "- $d_k$: dimensión de las keys, se utiliza para escalar el producto punto y evitar gradientes explosivos.\\\\\n",
        "- $T$: longitud de la secuencia.\n",
        "\n",
        "En GPT, usamos atención *causal*: cada token sólo puede \"ver\" a los tokens anteriores (no a los futuros), lo que se aplica con una **máscara triangular inferior**.\n",
        "\n",
        "#### Implementación paso a paso\n",
        "\n",
        "- **Inicialización (`__init__`)**:\n",
        "  - `head_dim`: dimensión interna de esta cabeza de atención (es decir, una fracción de `n_embd`).\n",
        "  - `key_query_value`: proyección lineal que genera de forma conjunta los tres vectores necesarios (`k`, `q`, `v`) a partir de la entrada.\n",
        "  - `dropout`: regularización aplicada sobre los pesos de atención.\n",
        "  - `tril`: máscara triangular inferior ($ \\text{tril}(1) $) para forzar atención causal.\n",
        "\n",
        "- **Forward pass (`forward`)**:\n",
        "  1. `x` es de forma `(B, T, C)`, donde:\n",
        "    - `B` es el tamaño del batch (cantidad de secuencias procesadas en paralelo),\n",
        "    - `T` es la longitud de cada secuencia (número de tokens, igual a `block_size`),\n",
        "    - `C` es la dimensión del embedding para cada token (igual a `n_embd`).\n",
        "\n",
        "  2. Se proyecta `x` a los tres espacios: keys (`k`), queries (`q`) y values (`v`), con una sola capa lineal.\n",
        "  3. Si se proporciona una `kv_cache`, se concatenan las nuevas claves/valores con las almacenadas previamente (útil para generación autoregresiva eficiente).\n",
        "  4. Se calcula el producto punto escalado ($qk^\\top / \\sqrt{d_k}$) → genera una matriz de pesos de atención.\n",
        "  5. Se aplica la máscara para atención causal: impide que cada posición atienda a posiciones futuras.\n",
        "  6. Se aplica `softmax` y `dropout` para normalizar y regularizar los pesos.\n",
        "  7. Finalmente, se multiplican los pesos por los valores para obtener la salida de atención: una representación contextualizada de cada token.\n",
        "\n",
        "- **Salidas**:\n",
        "  - Si `return_weights=True`, devuelve también los pesos de atención (útil para visualización).\n",
        "  - Si se usa `kv_cache`, también devuelve el nuevo cache (necesario para inferencia paso a paso en generación de texto).\n",
        "  - En caso contrario, devuelve sólo la salida de atención."
      ]
    },
    {
      "cell_type": "code",
      "execution_count": 117,
      "id": "ee03a21b",
      "metadata": {
        "id": "ee03a21b"
      },
      "outputs": [],
      "source": [
        "class AttentionHead(nn.Module):\n",
        "    \"\"\"\n",
        "    Scaled Dot-Product Attention Head for Multi-Head Attention.\n",
        "    \"\"\"\n",
        "    def __init__(self, args: GPTConfig) -> None:\n",
        "        super().__init__()\n",
        "        assert args.n_embd % args.n_head == 0, \"n_embd must be divisible by n_head\"\n",
        "        self.head_dim = args.n_embd // args.n_head\n",
        "\n",
        "        # Combined QKV projection\n",
        "        self.key_query_value = nn.Linear(args.n_embd, 3 * self.head_dim, bias=args.bias)\n",
        "\n",
        "        self.dropout = nn.Dropout(args.dropout)\n",
        "        self.block_size = args.block_size\n",
        "        self.register_buffer('tril', torch.tril(torch.ones(args.block_size, args.block_size)))\n",
        "\n",
        "    def forward(self, x: torch.Tensor, kv_cache: Optional[torch.Tensor] = None, return_weights=False):\n",
        "        B, T, C = x.shape\n",
        "        key_query_value = self.key_query_value(x)  # (B, T, 3 * head_dim)\n",
        "        k, q, v = torch.chunk(key_query_value, 3, dim=-1)  # (B, T, head_dim) each\n",
        "\n",
        "        if kv_cache is not None:\n",
        "            key_cache, value_cache = kv_cache.unbind(dim=0)  # (B, T', head_dim)\n",
        "            k = torch.cat((key_cache, k), dim=1)\n",
        "            v = torch.cat((value_cache, v), dim=1)\n",
        "\n",
        "        # Scaled dot-product attention\n",
        "        wei = q @ k.transpose(-2, -1) * (self.head_dim ** -0.5)  # (B, T, T)\n",
        "        wei = wei.masked_fill(self.tril[:T, :T] == 0, float('-inf'))\n",
        "        wei = F.softmax(wei, dim=-1)\n",
        "        wei = self.dropout(wei)\n",
        "\n",
        "        out = wei @ v  # (B, T, head_dim)\n",
        "\n",
        "        if return_weights:\n",
        "            return out, wei\n",
        "\n",
        "        if kv_cache is not None:\n",
        "            return out, torch.stack((k, v))\n",
        "\n",
        "        return out, None"
      ]
    },
    {
      "cell_type": "markdown",
      "id": "4392beca",
      "metadata": {},
      "source": [
        "#### Flujo de datos en cabeza de atención:\n",
        "\n",
        "1. **Entrada completa**:  \n",
        "   Cada token entra al sistema como un vector completo de dimensión `n_embd`.  \n",
        "   Por ejemplo, si `n_embd = 64`, cada token es un vector de 64 valores.\n",
        "\n",
        "2. **Proyección a Q, K, V**:  \n",
        "   A través de una capa lineal (`nn.Linear`), cada token se transforma en tres vectores:\n",
        "   - `query`\n",
        "   - `key`\n",
        "   - `value`  \n",
        "   Todos de dimensión `n_embd`.\n",
        "\n",
        "3. **División entre cabezas**:  \n",
        "   Luego, estos vectores se **dividen entre las `n_head` cabezas** de atención:\n",
        "   - Cada cabeza recibe una **fracción del espacio transformado**, no del embedding original.\n",
        "   - La dimensión por cabeza es:  \n",
        "      $$\n",
        "      \\text{head\\_dim} = \\frac{n\\_embd}{n\\_head}\n",
        "      $$\n",
        "\n",
        "4. **Atención sobre la secuencia**:  \n",
        "   Cada cabeza hace atención **entre todos los tokens de la secuencia**, pero **usando sólo su subespacio** (`head_dim`) para cada token.  \n",
        "   Es decir, **cada token es atendido completamente por cada cabeza**, pero desde una perspectiva distinta del espacio de representación.\n",
        "\n",
        "#### ¿Por qué se hace esto?\n",
        "\n",
        "- Para permitir que distintas cabezas aprendan **patrones complementarios**.\n",
        "- Para distribuir el costo computacional: en lugar de hacer una sola atención de gran dimensión, se hacen varias en paralelo de menor dimensión.\n",
        "- Por eso es necesario cumplir:\n",
        "\n",
        "  ```python\n",
        "  assert n_embd % n_head == 0\n",
        "  ```\n",
        "\n",
        "  Ya que cada cabeza debe recibir una fracción entera de la dimensión total.\n",
        "\n",
        "Cada cabeza ve **todos los tokens**, pero en **distinto subespacio**."
      ]
    },
    {
      "cell_type": "markdown",
      "id": "3448d0fe",
      "metadata": {},
      "source": [
        "## Módulo `MultiHeadAttention`"
      ]
    },
    {
      "cell_type": "markdown",
      "id": "264d8c09",
      "metadata": {},
      "source": [
        "Este componente implementa el mecanismo de **atención multi-cabeza** del Transformer. La idea teórica es aplicar varias cabezas de atención en paralelo para capturar distintas relaciones entre tokens desde diferentes subespacios de representación.\n",
        "\n",
        "> **Importante:** en esta implementación, las cabezas **no se computan en paralelo** sino **de forma secuencial** mediante un bucle `for`. Esto mejora la claridad del código, pero **no es eficiente** para uso en producción. En implementaciones reales (como Hugging Face), se vectoriza todo el cálculo para que las cabezas se procesen simultáneamente.\n",
        "\n",
        "#### ¿Qué hace este módulo?\n",
        "\n",
        "- Crea múltiples instancias del módulo `AttentionHead`, una por cada cabeza definida en `n_head`.\n",
        "- Cada cabeza realiza atención de forma independiente sobre toda la secuencia.\n",
        "- Las salidas de todas las cabezas se concatenan y se proyectan nuevamente al espacio de dimensión completa `n_embd`.\n",
        "\n",
        "#### Paso a paso del `__init__`\n",
        "\n",
        "1. **Verificación de divisibilidad**:  \n",
        "   Se asegura que `n_embd` pueda dividirse equitativamente entre `n_head`, para calcular la dimensión de cada cabeza (`head_dim`).\n",
        "2. **Creación de las cabezas de atención**:  \n",
        "   Se construye una `nn.ModuleList` con `n_head` instancias de `AttentionHead`.\n",
        "3. **Proyección final**:  \n",
        "   Una capa lineal (`self.proj`) toma el vector concatenado de todas las cabezas y lo proyecta de vuelta a la dimensión original (`n_embd`).  \n",
        "   Esto permite mezclar la información aprendida por cada cabeza.\n",
        "4. **Dropout final**:  \n",
        "   Regularización aplicada a la salida final para mitigar overfitting.\n",
        "\n",
        "#### Paso a paso del `forward`\n",
        "\n",
        "##### Entradas:\n",
        "- `x`: secuencia de tokens embebida, de forma `(B, T, n_embd)`.\n",
        "- `kv_cache`: opcional, para reutilizar las claves/valores de pasos anteriores (modo generación).\n",
        "- `return_weights`: si se activa, también devuelve los pesos de atención por cabeza.\n",
        "\n",
        "##### Proceso:\n",
        "1. Se itera sobre cada cabeza (`self.heads`):\n",
        "   - Cada cabeza recibe la secuencia completa.\n",
        "   - Produce una salida de atención `out` para esa cabeza.\n",
        "   - (Opcional) Se acumulan los pesos de atención y los nuevos cachés de `k/v` si corresponde.\n",
        "2. Las salidas individuales de todas las cabezas (`out`) se **concatenan a lo largo de la dimensión de embedding**:\n",
        "   $$\n",
        "   \\text{concat} \\in \\mathbb{R}^{B \\times T \\times n\\_embd}\n",
        "   $$\n",
        "3. Se aplica la proyección lineal final y el dropout.\n",
        "\n",
        "##### Salidas:\n",
        "- La salida principal tiene forma `(B, T, n_embd)`.\n",
        "- Si `return_weights=True`, también devuelve los pesos de atención por cabeza (`[n_head, B, T, T]`).\n",
        "- Si hay `kv_cache`, también devuelve el nuevo caché para reutilización.\n",
        "\n",
        "#### ¿Por qué usar múltiples cabezas?\n",
        "\n",
        "- **Diversidad de representaciones**: cada cabeza ve la misma secuencia, pero en un subespacio diferente (porción del embedding), y por lo tanto puede aprender a detectar relaciones diferentes entre tokens.\n",
        "- **Paralelismo**: se computan todas las cabezas simultáneamente, lo que es eficiente en hardware moderno.\n",
        "- **Potencia expresiva**: concatenar las salidas de distintas cabezas produce una representación más rica y contextualizada de cada token."
      ]
    },
    {
      "cell_type": "code",
      "execution_count": 118,
      "id": "7de8ad04",
      "metadata": {
        "id": "7de8ad04"
      },
      "outputs": [],
      "source": [
        "class MultiHeadAttention(nn.Module):\n",
        "    def __init__(self, args: GPTConfig):\n",
        "        super().__init__()\n",
        "        assert args.n_embd % args.n_head == 0, \"n_embd must be divisible by n_head\"\n",
        "        self.n_heads = args.n_head\n",
        "        self.head_dim = args.n_embd // args.n_head\n",
        "\n",
        "        self.heads = nn.ModuleList([\n",
        "            AttentionHead(args) for _ in range(self.n_heads)\n",
        "        ])\n",
        "\n",
        "        self.proj = nn.Linear(args.n_embd, args.n_embd, bias=args.bias)\n",
        "        self.dropout = nn.Dropout(args.dropout)\n",
        "\n",
        "    def forward(self, x, kv_cache=None, return_weights=False):\n",
        "        all_outputs = []\n",
        "        all_weights = []\n",
        "        new_kv_cache = [] if kv_cache is not None else None\n",
        "\n",
        "        for i, head in enumerate(self.heads):\n",
        "            head_cache = kv_cache[i] if kv_cache is not None else None\n",
        "            out, weights_or_kv = head(x, kv_cache=head_cache, return_weights=return_weights)\n",
        "            all_outputs.append(out)\n",
        "            if return_weights:\n",
        "                all_weights.append(weights_or_kv)\n",
        "            if kv_cache is not None:\n",
        "                new_kv_cache.append(weights_or_kv)  # weights_or_kv is new kv_cache here\n",
        "\n",
        "        concat = torch.cat(all_outputs, dim=-1)  # concat along embedding dim\n",
        "        out = self.dropout(self.proj(concat))\n",
        "\n",
        "        if return_weights:\n",
        "            return out, torch.stack(all_weights)\n",
        "        if kv_cache is not None:\n",
        "            return out, new_kv_cache\n",
        "        return out"
      ]
    },
    {
      "cell_type": "markdown",
      "id": "88167230",
      "metadata": {},
      "source": [
        "## Módulos `FeedForward` y `Block`: Bloque Transformer"
      ]
    },
    {
      "cell_type": "markdown",
      "id": "8f5df4e3",
      "metadata": {},
      "source": [
        "### `FeedForward`: Red totalmente conectada"
      ]
    },
    {
      "cell_type": "markdown",
      "id": "3135178a",
      "metadata": {},
      "source": [
        "Este módulo implementa la red densa que sigue a la atención en cada bloque Transformer.\n",
        "\n",
        "#### Arquitectura:\n",
        "\n",
        "- Una primera capa lineal expande la dimensión:  \n",
        "  $$\n",
        "  n\\_embd \\rightarrow 4 \\cdot n\\_embd\n",
        "  $$\n",
        "- Se aplica una función no lineal (`ReLU`).\n",
        "- Se proyecta de vuelta a la dimensión original:  \n",
        "  $$\n",
        "  4 \\cdot n\\_embd \\rightarrow n\\_embd\n",
        "  $$\n",
        "- Se incluye `Dropout` como regularización.\n",
        "\n",
        "Esta estructura es estándar en Transformers, y sirve para **transformar localmente** (por token) la información contextualizada tras la atención."
      ]
    },
    {
      "cell_type": "code",
      "execution_count": 119,
      "id": "0cebab48",
      "metadata": {},
      "outputs": [],
      "source": [
        "class FeedForward(nn.Module):\n",
        "    def __init__(self, config: GPTConfig):\n",
        "        super().__init__()\n",
        "        self.net = nn.Sequential(\n",
        "            nn.Linear(config.n_embd, 4 * config.n_embd),\n",
        "            nn.ReLU(),\n",
        "            nn.Linear(4 * config.n_embd, config.n_embd),\n",
        "            nn.Dropout(config.dropout),\n",
        "        )\n",
        "\n",
        "    def forward(self, x):\n",
        "        return self.net(x)"
      ]
    },
    {
      "cell_type": "markdown",
      "id": "d148c490",
      "metadata": {},
      "source": [
        "### `Block`: Bloque Transformer completo"
      ]
    },
    {
      "cell_type": "markdown",
      "id": "7d5b36c5",
      "metadata": {},
      "source": [
        "Este módulo representa una capa completa del modelo GPT. Está compuesto por:\n",
        "\n",
        "1. **Capa de normalización previa a la atención (`ln1`)**:\n",
        "   - Se aplica antes de la atención (pre-norm).\n",
        "\n",
        "2. **Atención multi-cabeza (`self.attn`)**:\n",
        "   - Procesa la secuencia completa con múltiples cabezas de atención.\n",
        "   - Puede retornar también los pesos de atención (`return_weights=True`).\n",
        "   - Puede recibir y actualizar un caché `kv_cache` (útil para inferencia autoregresiva).\n",
        "\n",
        "3. **Skip connection 1**:\n",
        "   - La salida de la atención se **suma** a la entrada original (`x + attn_out`).\n",
        "\n",
        "4. **Normalización previa a la red feed-forward (`ln2`)**.\n",
        "\n",
        "5. **Red feed-forward (`self.ff`)**:\n",
        "   - Por defecto usa `FeedForward`, pero puede ser reemplazada por una variante como `MoE` si se especifica en `GPTConfig`.\n",
        "\n",
        "6. **Skip connection 2**:\n",
        "   - La salida del feed-forward se **suma** al resultado anterior.\n",
        "\n",
        "#### Flujo completo del `forward`:\n",
        "\n",
        "```python\n",
        "x = x + self.attn(self.ln1(x))\n",
        "x = x + self.ff(self.ln2(x))\n",
        "```\n",
        "\n",
        "Este diseño de **pre-norm + skip connection** es clave para la estabilidad de modelos profundos.\n",
        "\n",
        "#### Notas adicionales\n",
        "\n",
        "- `ff_class` permite inyectar una clase alternativa a `FeedForward`, por ejemplo, una capa Mixture of Experts (MoE). Esto da flexibilidad para experimentar sin modificar el núcleo del bloque.\n",
        "- `kv_cache` se propaga y actualiza para habilitar inferencia eficiente en generación paso a paso.\n",
        "\n",
        "> **Resumen:** Este módulo encapsula un bloque completo de GPT, combinando atención contextual con transformación no lineal por token. Apilar múltiples de estos bloques permite al modelo aprender dependencias complejas en la secuencia.\n"
      ]
    },
    {
      "cell_type": "markdown",
      "id": "ee2e1a92",
      "metadata": {},
      "source": [
        "En esta implementación (`Block`) estamos siguiendo la variante **Pre-Norm**, que difiere del diseño original del paper *\"Attention is All You Need\"*. A continuación se detalla la diferencia clave.\n",
        "\n",
        "- En el paper original se utiliza el esquema **Post-Norm**:\n",
        "  - La operación de atención o feed-forward se aplica primero.\n",
        "  - Luego se suma la conexión residual.\n",
        "  - Finalmente se aplica `LayerNorm`.\n",
        "\n",
        "<p align=\"center\">\n",
        "    <img src=\"imgs/paper_block.png\" alt=\"Arquitectura del bloque Transformer Decoder\"><br>\n",
        "    <em>Figura 2: Bloque Transformer Decoder con esquema Post-Norm (según el paper original).</em>\n",
        "</p>\n",
        "\n",
        "  $$\n",
        "  \\text{Output} = \\text{LayerNorm}(x + \\text{SubLayer}(x))\n",
        "  $$\n",
        "\n",
        "  Este diseño es visible en los bloques etiquetados como `Add & Norm` en la figura del paper.\n",
        "\n",
        "- En esta implementación (`Block`) se aplica **Pre-Norm**, una variante moderna:\n",
        "  - Primero se normaliza la entrada (`LayerNorm`).\n",
        "  - Luego se aplica el submódulo (atención o feed-forward).\n",
        "  - Finalmente se suma la conexión residual.\n",
        "\n",
        "<p align=\"center\">\n",
        "    <img src=\"imgs/block.png\" alt=\"Arquitectura del bloque Transformer Decoder\"><br>\n",
        "    <em>Figura 1: Bloque Transformer Decoder con esquema Pre-Norm (implementación actual).</em>\n",
        "</p>\n",
        "\n",
        "  $$\n",
        "  \\text{Output} = x + \\text{SubLayer}(\\text{LayerNorm}(x))\n",
        "  $$\n",
        "\n",
        "Hoy en día se prefiere Pre-Norm debido a que:\n",
        "\n",
        "- Mejora la **estabilidad de entrenamiento** en redes profundas.\n",
        "- Permite mayor facilidad para entrenar modelos grandes (como GPT-2, GPT-3, LLaMA, Mistral).\n",
        "- Es el enfoque estándar en arquitecturas *decoder-only* modernas como GPT."
      ]
    },
    {
      "cell_type": "code",
      "execution_count": 120,
      "id": "d94a31d5",
      "metadata": {
        "id": "d94a31d5"
      },
      "outputs": [],
      "source": [
        "class Block(nn.Module):\n",
        "    def __init__(self, config: GPTConfig):\n",
        "        super().__init__()\n",
        "        self.ln1 = nn.LayerNorm(config.n_embd)\n",
        "        self.ln2 = nn.LayerNorm(config.n_embd)\n",
        "        self.attn = MultiHeadAttention(config)\n",
        "\n",
        "        ff_class = config.ff_class if config.ff_class is not None else FeedForward\n",
        "        self.ff = ff_class(config)\n",
        "\n",
        "    def forward(self, x, kv_cache=None, return_weights=False):\n",
        "        attn_out = self.attn(self.ln1(x), kv_cache=kv_cache, return_weights=return_weights)\n",
        "        if return_weights:\n",
        "            attn_out, weights = attn_out\n",
        "        else:\n",
        "            weights = None\n",
        "\n",
        "        if isinstance(attn_out, tuple):\n",
        "            attn_out, updated_kv = attn_out\n",
        "        else:\n",
        "            updated_kv = None\n",
        "\n",
        "        x = x + attn_out\n",
        "        x = x + self.ff(self.ln2(x))\n",
        "        return (x, updated_kv, weights) if return_weights else (x, updated_kv)"
      ]
    },
    {
      "cell_type": "markdown",
      "id": "9a4c3ef8",
      "metadata": {},
      "source": [
        "## TinyGPT Architecture"
      ]
    },
    {
      "cell_type": "markdown",
      "id": "e74b47ae",
      "metadata": {},
      "source": [
        "Este módulo implementa un modelo completo de tipo **GPT**, basado exclusivamente en bloques decoder del Transformer. Es una arquitectura autoregresiva entrenada para predecir el próximo token dado un historial previo.\n",
        "\n",
        "<p align=\"center\">\n",
        "    <img src=\"imgs/tinygpt.png\" alt=\"Arquitectura de TinyGPT\"><br>\n",
        "    <em>Figura 3: Arquitectura de TinyGPT.</em>\n",
        "</p>\n",
        "\n",
        "### Componentes principales (`__init__`)\n",
        "\n",
        "1. **Embedding de tokens (`token_emb`)**:\n",
        "   - Convierte los índices enteros de tokens en vectores densos de dimensión `n_embd`.\n",
        "\n",
        "2. **Embedding posicional (`pos_emb`)**:\n",
        "   - Aprende una representación específica para cada posición de la secuencia (desde 0 hasta `block_size - 1`).\n",
        "   - Se suma al embedding de cada token para incorporar información de orden.\n",
        "\n",
        "3. **Bloques Transformer (`blocks`)**:\n",
        "   - Se crea una `nn.ModuleList` con `n_layer` instancias del bloque `Block` (que contiene atención, normalización, y feedforward).\n",
        "   - Cada bloque procesa la secuencia enriqueciendo la representación contextual de los tokens.\n",
        "\n",
        "4. **Normalización final (`ln_f`)**:\n",
        "   - Una capa `LayerNorm` que se aplica antes de la salida final para estabilizar la distribución de activaciones.\n",
        "\n",
        "5. **Cabeza de predicción (`head`)**:\n",
        "   - Proyección lineal que convierte la salida de cada token en un vector del tamaño del vocabulario (`vocab_size`).\n",
        "   - Es la que produce los **logits**, sobre los cuales se aplicará `softmax` para obtener probabilidades de predicción.\n",
        "\n",
        "### Flujo del `forward`\n",
        "\n",
        "#### Entradas:\n",
        "- `idx`: tensor `(B, T)` con los índices de tokens para cada secuencia del batch.\n",
        "- `kv_cache`: caché opcional para claves y valores (útil para generación paso a paso).\n",
        "- `return_weights`: si se activa, también devuelve los pesos de atención por cada capa y cabeza.\n",
        "\n",
        "#### Pasos:\n",
        "\n",
        "1. **Token y posición**:\n",
        "   - Se obtiene el embedding de cada token: `tok_emb = token_emb(idx)`\n",
        "   - Se generan los índices de posición `0..T-1` y se embeben: `pos_emb = pos_emb(pos)`\n",
        "   - Se suman ambos embeddings:  \n",
        "     $$\n",
        "     x = \\text{token\\_emb} + \\text{pos\\_emb}\n",
        "     $$\n",
        "\n",
        "2. **Paso por bloques Transformer**:\n",
        "   - Se itera secuencialmente sobre los bloques.\n",
        "   - En cada uno, se actualiza `x` y, si aplica, se recolectan pesos de atención y nuevos `kv_cache`.\n",
        "\n",
        "3. **Postprocesamiento y salida**:\n",
        "   - Se aplica la `LayerNorm` final.\n",
        "   - Se proyecta a logits con la capa final:  \n",
        "     $$\n",
        "     \\text{logits} = \\text{head}(x)\n",
        "     $$\n",
        "\n",
        "#### Salidas:\n",
        "- Si `return_weights=True`:  \n",
        "  Retorna `(logits, [kv_cache], [attention_weights])`\n",
        "- Si `kv_cache` está presente:  \n",
        "  Se propaga a lo largo del modelo para acelerar la inferencia.\n",
        "- En modo normal:  \n",
        "  Solo retorna `logits` con forma `(B, T, vocab_size)`"
      ]
    },
    {
      "cell_type": "code",
      "execution_count": 121,
      "id": "fcf750eb",
      "metadata": {},
      "outputs": [],
      "source": [
        "class TinyGPT(nn.Module):\n",
        "    def __init__(self, config: GPTConfig):\n",
        "        super().__init__()\n",
        "        self.token_emb = nn.Embedding(config.vocab_size, config.n_embd)\n",
        "        self.pos_emb = nn.Embedding(config.block_size, config.n_embd)\n",
        "        self.blocks = nn.ModuleList([Block(config) for _ in range(config.n_layer)])\n",
        "        self.ln_f = nn.LayerNorm(config.n_embd)\n",
        "        self.head = nn.Linear(config.n_embd, config.vocab_size, bias=False)\n",
        "        self.config = config\n",
        "\n",
        "    def forward(self, idx, kv_cache=None, return_weights=False):\n",
        "        B, T = idx.shape\n",
        "        tok_emb = self.token_emb(idx)\n",
        "        pos = torch.arange(T, device=idx.device)\n",
        "        pos_emb = self.pos_emb(pos)[None, :, :]\n",
        "        x = tok_emb + pos_emb\n",
        "\n",
        "        new_kv_cache = [] if kv_cache is not None else None\n",
        "        all_weights = [] if return_weights else None\n",
        "\n",
        "        for i, block in enumerate(self.blocks):\n",
        "            layer_kv = kv_cache[i] if kv_cache is not None else None\n",
        "            if return_weights:\n",
        "                x, updated_kv, weights = block(x, kv_cache=layer_kv, return_weights=True)\n",
        "                all_weights.append(weights)  # weights shape: (n_heads, B, T, T)\n",
        "            else:\n",
        "                x, updated_kv = block(x, kv_cache=layer_kv)\n",
        "            if kv_cache is not None:\n",
        "                new_kv_cache.append(updated_kv)\n",
        "\n",
        "        x = self.ln_f(x)\n",
        "        logits = self.head(x)\n",
        "\n",
        "        if return_weights:\n",
        "            if kv_cache is not None:\n",
        "                return logits, new_kv_cache, all_weights\n",
        "            else:\n",
        "                return logits, all_weights\n",
        "        else:\n",
        "            if kv_cache is not None:\n",
        "                return logits, new_kv_cache\n",
        "            return logits"
      ]
    },
    {
      "cell_type": "markdown",
      "id": "6ca10608",
      "metadata": {},
      "source": [
        "## Generation function (inference)"
      ]
    },
    {
      "cell_type": "markdown",
      "id": "dd87afbe",
      "metadata": {},
      "source": [
        "### Función `generate`: generación autoregresiva de texto con TinyGPT\n",
        "\n",
        "Esta función implementa la lógica de generación secuencial de tokens usando el modelo `TinyGPT`, a partir de un prompt inicial. El modelo predice un token a la vez, lo agrega a la secuencia, y vuelve a invocarse sobre la nueva secuencia para predecir el siguiente.\n",
        "\n",
        "#### Decorador `@torch.no_grad()`\n",
        "\n",
        "Se desactiva el cálculo de gradientes ya que no se está entrenando el modelo sino haciendo inferencia. Esto:\n",
        "- Ahorra memoria.\n",
        "- Acelera la ejecución.\n",
        "\n",
        "#### Flujo general\n",
        "\n",
        "1. Preparación del prompt:\n",
        "   - Se tokeniza el string inicial (`prompt`) usando el `tokenizer`.\n",
        "   - Se convierte en un tensor de `dtype=torch.long`, con forma `(1, T_init)`.\n",
        "\n",
        "2. Inicialización opcional del cache:\n",
        "   - `kv_cache = None`: se usará para almacenar claves y valores anteriores si `use_cache=True`.\n",
        "\n",
        "3. Loop de generación:\n",
        "   - Se repite hasta generar `max_new_tokens` tokens nuevos.\n",
        "\n",
        "   ##### Dentro del loop:\n",
        "   - Se define `idx_cond`, que es el contexto de entrada:\n",
        "     - Si `use_cache=True`: se pasa solo el último token generado (`idx[:, -1:]`).\n",
        "     - Si no: se pasa el último bloque de contexto (`idx[:, -block_size:]`), útil si el contexto excede la ventana.\n",
        "   - Se ejecuta el modelo con ese contexto y el `kv_cache`.\n",
        "   - Se actualiza `kv_cache` si es que está habilitado.\n",
        "   - Se obtiene la distribución de probabilidad sobre el próximo token:\n",
        "     $$\n",
        "     \\text{probs} = \\text{softmax}(logits_{t})\n",
        "     $$\n",
        "   - Se muestrea el próximo token usando `torch.multinomial`.\n",
        "   - Se concatena ese token a la secuencia `idx`.\n",
        "\n",
        "4. Decodificación final:\n",
        "   - Se convierte la secuencia generada de IDs de vuelta a texto con `tokenizer.decode`.\n",
        "\n",
        "#### Características importantes\n",
        "\n",
        "- Autoregresivo: genera token por token, usando solo información pasada.\n",
        "- Soporte para cache (`kv_cache`):\n",
        "  - Evita recalcular la atención sobre todos los tokens previos en cada paso.\n",
        "  - Aumenta significativamente la eficiencia en inferencia.\n",
        "- Sampling estocástico:\n",
        "  - Se usa `torch.multinomial` para muestrear según la distribución de probabilidad, generando resultados no deterministas."
      ]
    },
    {
      "cell_type": "code",
      "execution_count": 122,
      "id": "e694232f",
      "metadata": {
        "id": "e694232f"
      },
      "outputs": [],
      "source": [
        "@torch.no_grad()\n",
        "def generate(model: torch.nn.Module, prompt: str, max_new_tokens: int = 100, use_cache: bool = True, device: torch.device = torch.device(\"cpu\")):\n",
        "    model.eval()\n",
        "    idx = torch.tensor(tokenizer.encode(prompt), dtype=torch.long)[None, :].to(device)\n",
        "    kv_cache = None\n",
        "\n",
        "    for _ in range(max_new_tokens):\n",
        "        if use_cache and kv_cache is not None:\n",
        "            idx_cond = idx[:, -1:]\n",
        "        else:\n",
        "            idx_cond = idx[:, -config.block_size:]\n",
        "\n",
        "        out = model(idx_cond, kv_cache=kv_cache) if use_cache else model(idx_cond)\n",
        "\n",
        "        if isinstance(out, tuple):\n",
        "            logits, kv_cache = out\n",
        "        else:\n",
        "            logits = out\n",
        "            kv_cache = None\n",
        "\n",
        "        probs = F.softmax(logits[:, -1, :], dim=-1)\n",
        "        next_token = torch.multinomial(probs, num_samples=1)\n",
        "        idx = torch.cat((idx, next_token), dim=1)\n",
        "\n",
        "    return tokenizer.decode(idx[0].tolist())"
      ]
    },
    {
      "cell_type": "markdown",
      "id": "17b5d7bd",
      "metadata": {},
      "source": [
        "# Setup"
      ]
    },
    {
      "cell_type": "markdown",
      "id": "cab1f1bb",
      "metadata": {},
      "source": [
        "Configuración del dispositivo, modelo, optimizador y parámetros de entrenamiento\n",
        "\n",
        "Este bloque inicializa el modelo `TinyGPT` y define todos los elementos necesarios para su entrenamiento.\n",
        "\n",
        "```python\n",
        "device = 'cuda' if torch.cuda.is_available() else 'mps' if torch.backends.mps.is_available() else 'cpu'\n",
        "```\n",
        "\n",
        "- Se selecciona el dispositivo óptimo disponible:\n",
        "  - `cuda`: GPU NVIDIA con soporte CUDA.\n",
        "  - `mps`: GPU de Apple Silicon mediante Metal Performance Shaders.\n",
        "  - `cpu`: como último recurso.\n",
        "\n",
        "```python\n",
        "m = TinyGPT(config).to(device)\n",
        "model = torch.compile(m)\n",
        "```\n",
        "\n",
        "- Se instancia el modelo con la configuración `config`.\n",
        "- Se mueve al dispositivo seleccionado (`.to(device)`).\n",
        "- Se aplica `torch.compile(model)` (si usás PyTorch 2+):\n",
        "    - Esta función transforma dinámicamente el modelo a una forma optimizada.\n",
        "    - Puede mejorar significativamente el rendimiento durante entrenamiento e inferencia.\n",
        "    - Internamente hace \"tracing\" del grafo de operaciones.\n",
        "\n",
        "```python\n",
        "optimizer = AdamW(model.parameters(), lr=1e-3)\n",
        "```\n",
        "\n",
        "- Se utiliza el optimizador AdamW (Adam con weight decay).\n",
        "- lr=1e-3`es una tasa de aprendizaje relativamente alta, pero puede estabilizarse con scheduler.\n",
        "- AdamW es una elección estándar en entrenamiento de Transformers.\n",
        "\n",
        "```python\n",
        "# scheduler = StepLR(optimizer, step_size=100, gamma=0.9)\n",
        "total_steps = len(train_loader) * epochs\n",
        "scheduler = CosineAnnealingLR(optimizer, T_max=total_steps, eta_min=1e-5)\n",
        "```\n",
        "\n",
        "- La tasa de aprendizaje disminuye suavemente desde `lr` hasta `eta_min` siguiendo una curva coseno.\n",
        "- `T_max` define la cantidad total de pasos de entrenamiento (épocas × batches).\n",
        "- Esta estrategia es más estable que `StepLR`, evita saltos bruscos en el `lr`, y suele mejorar la capacidad de generalización.\n",
        "- `eta_min` asegura que el `lr` no decaiga hasta cero completamente, lo que ayuda a mantener aprendizaje activo hasta el final.\n",
        "\n",
        "```python\n",
        "loss_fn = torch.nn.CrossEntropyLoss()\n",
        "```\n",
        "\n",
        "- Se usa `CrossEntropyLoss`, que es equivalente a aplicar `log-softmax` seguido de `negative log-likelihood`.\n",
        "- Es la función estándar para clasificación multi-clase, y se usa aquí para predecir el próximo token.\n",
        "\n",
        "```python\n",
        "epochs = 20\n",
        "```\n",
        "\n",
        "- Se define un entrenamiento de 20 épocas."
      ]
    },
    {
      "cell_type": "code",
      "execution_count": 123,
      "id": "f757e415",
      "metadata": {
        "id": "f757e415"
      },
      "outputs": [
        {
          "name": "stdout",
          "output_type": "stream",
          "text": [
            "Using device: cuda\n"
          ]
        }
      ],
      "source": [
        "# Device to use\n",
        "device =  'cuda' if torch.cuda.is_available() else 'mps' if torch.backends.mps.is_available() else 'cpu'\n",
        "print(f'Using device: {device}')\n",
        "\n",
        "# Model\n",
        "m = TinyGPT(config).to(device)\n",
        "model = torch.compile(m)"
      ]
    },
    {
      "cell_type": "code",
      "execution_count": 124,
      "id": "71a1b596",
      "metadata": {},
      "outputs": [],
      "source": [
        "# Epochs\n",
        "epochs = 20\n",
        "\n",
        "# Optimizer, scheduler, and loss function\n",
        "optimizer = AdamW(model.parameters(), lr=1e-3)\n",
        "# scheduler = StepLR(optimizer, step_size=100, gamma=0.9)\n",
        "total_steps = len(train_loader) * epochs\n",
        "scheduler = CosineAnnealingLR(optimizer, T_max=total_steps, eta_min=1e-5)\n",
        "loss_fn = torch.nn.CrossEntropyLoss()"
      ]
    },
    {
      "cell_type": "markdown",
      "id": "180c7cd7",
      "metadata": {
        "id": "180c7cd7"
      },
      "source": [
        "# Training"
      ]
    },
    {
      "cell_type": "markdown",
      "id": "ca13dd07",
      "metadata": {},
      "source": [
        "Este bloque ejecuta el entrenamiento del modelo `TinyGPT` utilizando una clase `Trainer` que encapsula el loop de entrenamiento, la evaluación y el manejo de checkpoints.\n",
        "\n",
        "```python\n",
        "trainer = Trainer(\n",
        "    model=model,\n",
        "    train_data_loader=train_loader,\n",
        "    test_data_loader=val_loader,\n",
        "    loss_fn=loss_fn,\n",
        "    gradient_accumulation_steps=1,\n",
        "    optimizer=optimizer,\n",
        "    scheduler=scheduler,\n",
        "    device=device,\n",
        "    save_dir=\"./vanilla_checkpoints\",\n",
        "    save_every_n=500\n",
        ")\n",
        "```\n",
        "\n",
        "- Recibe todos los componentes del pipeline: modelo, dataloaders, función de pérdida, optimizador y scheduler.\n",
        "- Soporta:\n",
        "  - Gradient accumulation (`gradient_accumulation_steps`).\n",
        "  - Mixed Precision Training (AMP).\n",
        "  - Checkpointing automático (cada `save_every_n` pasos y al final).\n",
        "  - Evaluación después de cada época.\n",
        "\n",
        "La función `train_and_evaluate()` encapsula el ciclo completo de entrenamiento y evaluación de un modelo `Trainer`:\n",
        "\n",
        "```python\n",
        "def train_and_evaluate(\n",
        "    trainer,\n",
        "    epochs: int,\n",
        "    use_amp: bool = True,\n",
        "    dtype=torch.bfloat16,\n",
        "    plot: bool = True,\n",
        "    save_csv_path: str = None,\n",
        ") -> pd.DataFrame:\n",
        "    ...\n",
        "```\n",
        "\n",
        "- Calcula métricas por época: `loss`, `perplexity`, `time`.\n",
        "- Las guarda en un `DataFrame`.\n",
        "- Puede graficar los resultados y exportarlos a `.csv`.\n",
        "- Separa completamente la lógica de entrenamiento del control externo.\n",
        "\n",
        "\n",
        "La función `plot_metrics()` grafica métricas a lo largo de las épocas:\n",
        "\n",
        "```python\n",
        "def plot_metrics(df: pd.DataFrame):\n",
        "    ...\n",
        "```\n",
        "\n",
        "- Requiere como entrada un `DataFrame` con las columnas: `epoch`, `train_loss`, `val_loss`, `train_ppl`, `val_ppl`.\n",
        "- Produce dos gráficos: evolución de pérdida y evolución de perplejidad.\n",
        "- Usa `matplotlib` para visualización clara y comparativa.\n",
        "\n",
        "Estas funciones mejoran la trazabilidad del entrenamiento y te permiten auditar el progreso del modelo con métricas objetivas y visuales."
      ]
    },
    {
      "cell_type": "code",
      "execution_count": 125,
      "id": "8f5bc130",
      "metadata": {},
      "outputs": [],
      "source": [
        "def plot_metrics(df: pd.DataFrame):\n",
        "    \"\"\"Grafica curvas de pérdida y perplejidad.\"\"\"\n",
        "    plt.figure(figsize=(12, 5))\n",
        "\n",
        "    plt.subplot(1, 2, 1)\n",
        "    plt.plot(df['epoch'], df['train_loss'], label='Train Loss')\n",
        "    plt.plot(df['epoch'], df['val_loss'], label='Validation Loss')\n",
        "    plt.xlabel('Epoch')\n",
        "    plt.ylabel('Loss')\n",
        "    plt.title('Loss per Epoch')\n",
        "    plt.legend()\n",
        "    plt.grid(True)\n",
        "\n",
        "    plt.subplot(1, 2, 2)\n",
        "    plt.plot(df['epoch'], df['train_ppl'], label='Train Perplexity')\n",
        "    plt.plot(df['epoch'], df['val_ppl'], label='Validation Perplexity')\n",
        "    plt.xlabel('Epoch')\n",
        "    plt.ylabel('Perplexity')\n",
        "    plt.title('Perplexity per Epoch')\n",
        "    plt.legend()\n",
        "    plt.grid(True)\n",
        "\n",
        "    plt.tight_layout()\n",
        "    plt.show()\n",
        "\n",
        "\n",
        "def train_and_evaluate(\n",
        "    trainer,\n",
        "    epochs: int,\n",
        "    use_amp: bool = True,\n",
        "    dtype=torch.bfloat16,\n",
        "    plot: bool = True,\n",
        "    save_csv_path: Optional[str] = None,\n",
        ") -> pd.DataFrame:\n",
        "    \"\"\"\n",
        "    Entrena el modelo y evalúa por cada época. Retorna un DataFrame con las métricas.\n",
        "\n",
        "    Args:\n",
        "        trainer (Trainer): Instancia del trainer ya configurada.\n",
        "        epochs (int): Número de épocas a entrenar.\n",
        "        use_amp (bool): Si se usa precisión mixta.\n",
        "        dtype (torch.dtype): Tipo de dato a usar en AMP.\n",
        "        plot (bool): Si se grafican las curvas de loss y perplexity.\n",
        "        save_csv_path (str): Ruta para guardar el CSV con métricas. None = no guardar.\n",
        "\n",
        "    Returns:\n",
        "        pd.DataFrame: Tabla con métricas por época.\n",
        "    \"\"\"\n",
        "    train_losses, val_losses = [], []\n",
        "    train_ppls, val_ppls = [], []\n",
        "    for epoch in range(epochs):\n",
        "        start = time.time()\n",
        "        train_loss = trainer.train_model_v2(use_amp=use_amp, dtype=dtype)\n",
        "        train_ppl = math.exp(train_loss)\n",
        "        val_loss = trainer.eval_model()\n",
        "        val_ppl = math.exp(val_loss)\n",
        "        end = time.time()\n",
        "        train_losses.append(train_loss)\n",
        "        val_losses.append(val_loss)\n",
        "        train_ppls.append(train_ppl)\n",
        "        val_ppls.append(val_ppl)\n",
        "        print(\n",
        "            f\"\\nEpoch {epoch+1:02d} | \"\n",
        "            f\"Train Loss: {train_loss:.4f} | Val Loss: {val_loss:.4f} | \"\n",
        "            f\"Train PPL: {train_ppl:.2f} | Val PPL: {val_ppl:.2f} | \"\n",
        "            f\"Time: {(end-start):.2f}s\\n\"\n",
        "        )\n",
        "    # Crear DataFrame con resultados\n",
        "    df = pd.DataFrame({\n",
        "        'epoch': list(range(1, epochs + 1)),\n",
        "        'train_loss': train_losses,\n",
        "        'val_loss': val_losses,\n",
        "        'train_ppl': train_ppls,\n",
        "        'val_ppl': val_ppls\n",
        "    })\n",
        "    # Guardar en CSV si se solicita\n",
        "    if save_csv_path:\n",
        "        df.to_csv(save_csv_path, index=False)\n",
        "    # Graficar si se solicita\n",
        "    if plot:\n",
        "        plot_metrics(df)\n",
        "    return df"
      ]
    },
    {
      "cell_type": "code",
      "execution_count": 126,
      "id": "9e9e1cce",
      "metadata": {},
      "outputs": [],
      "source": [
        "train_model = False"
      ]
    },
    {
      "cell_type": "code",
      "execution_count": 127,
      "id": "89e99faf",
      "metadata": {},
      "outputs": [
        {
          "name": "stdout",
          "output_type": "stream",
          "text": [
            "Loading model weights from checkpoint ./vanilla_checkpoints/checkpoint_final.pt\n"
          ]
        },
        {
          "name": "stdout",
          "output_type": "stream",
          "text": [
            "Metrics loaded from CSV.\n"
          ]
        },
        {
          "data": {
            "image/png": "[encoded data removed]",
            "text/plain": [
              "<Figure size 1200x500 with 2 Axes>"
            ]
          },
          "metadata": {},
          "output_type": "display_data"
        }
      ],
      "source": [
        "if not train_model and os.path.exists(\"./vanilla_checkpoints/checkpoint_final.pt\"):\n",
        "    checkpoint_path = \"./vanilla_checkpoints/checkpoint_final.pt\"\n",
        "    print(f\"Loading model weights from checkpoint {checkpoint_path}\")\n",
        "    checkpoint = torch.load(checkpoint_path, map_location=device)\n",
        "    model.load_state_dict(checkpoint[\"model_state_dict\"])\n",
        "    if os.path.exists(\"./vanilla_checkpoints/metrics.csv\"):\n",
        "        df_metrics = pd.read_csv(\"./vanilla_checkpoints/metrics.csv\")\n",
        "        print(\"Metrics loaded from CSV.\")\n",
        "        plot_metrics(df_metrics)\n",
        "    else:\n",
        "        print(\"No metrics CSV found.\")\n",
        "else:\n",
        "    print(\"Training the model\")\n",
        "    trainer = Trainer(\n",
        "        model=model,\n",
        "        train_data_loader=train_loader,\n",
        "        test_data_loader=val_loader,\n",
        "        loss_fn=loss_fn,\n",
        "        gradient_accumulation_steps=1,\n",
        "        optimizer=optimizer,\n",
        "        scheduler=scheduler,\n",
        "        device=device,\n",
        "        save_dir=\"./vanilla_checkpoints\",\n",
        "        save_every_n=500\n",
        "    )\n",
        "    df_metrics = train_and_evaluate(trainer, epochs=epochs, save_csv_path='./vanilla_checkpoints/metrics.csv')\n",
        "\n"
      ]
    },
    {
      "cell_type": "markdown",
      "id": "ecddd731",
      "metadata": {},
      "source": [
        "#### Análisis de la evolución de pérdida y perplejidad (20 épocas)\n",
        "\n",
        "Se entrenó el modelo `TinyGPT` durante 20 épocas utilizando un `batch_size = 512`, lo cual permitió una utilización eficiente de GPU (hasta 98% de UTL) sin comprometer estabilidad ni generar errores de memoria. La siguiente figura muestra la evolución de la pérdida y la perplejidad en los conjuntos de entrenamiento y validación.\n",
        "\n",
        "- La pérdida de entrenamiento (`train_loss`) desciende consistentemente hasta estabilizarse cerca de 1.53.\n",
        "- La pérdida de validación (`val_loss`) se estabiliza en torno a 1.65, sin mejoras significativas a partir de la época 15.\n",
        "- El comportamiento de la perplejidad (`perplexity`) es coherente con las curvas de pérdida: desciende hasta estabilizarse en valores cercanos a:\n",
        "  - 4.6 en entrenamiento,\n",
        "  - 5.2 en validación.\n",
        "\n",
        "#### Entrenamiento previo: 30 épocas\n",
        "\n",
        "Antes de este entrenamiento se realizó una corrida con 30 épocas, tras la cual se observó el inicio de overfitting, identificado por los siguientes signos:\n",
        "\n",
        "- La pérdida de validación comenzó a aumentar levemente después de la época 20.\n",
        "- Mientras tanto, la pérdida de entrenamiento seguía disminuyendo, generando una brecha creciente entre `train_loss` y `val_loss`.\n",
        "- El modelo comenzó a memorizar mejor el corpus de entrenamiento, pero sin mejorar su capacidad de generalización.\n",
        "\n",
        "Este patrón es característico de sobreajuste, especialmente en modelos pequeños entrenados con corpus limitados y sin técnicas de regularización explícita.\n",
        "\n",
        "#### Conclusión\n",
        "\n",
        "Entrenar por 20 épocas resultó ser el punto óptimo de equilibrio entre aprendizaje efectivo y prevención del sobreajuste. Los resultados indican que el modelo ha capturado patrones significativos del corpus sin comprometer su capacidad de generalización. La decisión de limitar a 20 épocas se basa en evidencia empírica observada tanto en las curvas de pérdida como en la perplejidad."
      ]
    },
    {
      "cell_type": "markdown",
      "id": "88e5b33a",
      "metadata": {},
      "source": [
        "## Quick test "
      ]
    },
    {
      "cell_type": "code",
      "execution_count": 128,
      "id": "798ca80d",
      "metadata": {
        "colab": {
          "base_uri": "https://localhost:8080/",
          "height": 36
        },
        "id": "798ca80d",
        "outputId": "ce82a65d-2f4b-41b1-a718-719161f053bd"
      },
      "outputs": [
        {
          "data": {
            "text/plain": [
              "'To be a gods.\\n\\nVOLUMNIA:\\nThy geners,\\nTell heaven the lights for where rument.\\n\\nCOMINIUS:\\nPresed much deli'"
            ]
          },
          "execution_count": 128,
          "metadata": {},
          "output_type": "execute_result"
        }
      ],
      "source": [
        "generate(model=model, prompt=\"To be\", max_new_tokens=100, use_cache=True, device=device) "
      ]
    },
    {
      "cell_type": "markdown",
      "id": "7d47ebc6",
      "metadata": {
        "id": "7d47ebc6"
      },
      "source": [
        "# Task I\n",
        "\n",
        "Using TinyGPT you need to implement the following modifications:\n",
        "\n",
        "\n",
        "## Inference: Modify the generate function to:\n",
        "- Greedy decoding (pick max probability token).\n",
        "- Temperature sampling.\n",
        "- top-k or top-p sampling.\n",
        "\n",
        "### References\n",
        "- [huggingface generate](https://huggingface.co/docs/transformers/main_classes/text_generation)\n",
        "\n"
      ]
    },
    {
      "cell_type": "code",
      "execution_count": 129,
      "id": "1875a7ee",
      "metadata": {
        "id": "1875a7ee"
      },
      "outputs": [],
      "source": [
        "@torch.no_grad()\n",
        "def generateV2(\n",
        "    model: torch.nn.Module,\n",
        "    prompt: str,\n",
        "    max_new_tokens: int = 100,\n",
        "    use_cache: bool = True,\n",
        "    temperature: float = 1.0,\n",
        "    top_k: int = 0,\n",
        "    top_p: float = 1.0,\n",
        "    verbose: bool = False,\n",
        "    device: torch.device = torch.device(\"cpu\")\n",
        ") -> Optional[str]:\n",
        "    \"\"\"\n",
        "    Autoregressive text generation with decoding strategies.\n",
        "\n",
        "    Args:\n",
        "        model (torch.nn.Module): The model to use for generation.\n",
        "        prompt (str): Initial text prompt.\n",
        "        max_new_tokens (int): Number of tokens to generate.\n",
        "        use_cache (bool): Whether to use KV cache.\n",
        "        temperature (float): Scaling factor for logits; <= 0 disables sampling.\n",
        "        top_k (int): Keep only top-k tokens with highest probability (0 = disable).\n",
        "        top_p (float): Nucleus sampling: keep top tokens with cumulative probability ≤ top_p (1.0 = disable).\n",
        "        verbose (bool): If True, prints additional information during generation.\n",
        "    device (torch.device): Device to run the model on (e.g., 'cpu', 'cuda', 'mps').\n",
        "\n",
        "    Returns:\n",
        "        str: The generated text including the prompt.\n",
        "    \"\"\"\n",
        "    assert not (top_k > 0 and top_p < 1.0), \"Use either top_k or top_p, not both\"\n",
        "    model.eval()\n",
        "    idx = torch.tensor(tokenizer.encode(prompt), dtype=torch.long)[None, :].to(device)\n",
        "    assert idx.shape[0] == 1, \"Only supports batch size 1 for now\"\n",
        "    kv_cache = None\n",
        "    for _ in range(max_new_tokens):\n",
        "        # Context input\n",
        "        idx_cond = idx[:, -1:] if (use_cache and kv_cache is not None) else idx[:, -config.block_size:]        \n",
        "        out = model(idx_cond, kv_cache=kv_cache) if use_cache else model(idx_cond)\n",
        "        if isinstance(out, tuple):\n",
        "            logits, kv_cache = out\n",
        "        else:\n",
        "            logits = out\n",
        "            kv_cache = None\n",
        "        logits = logits[:, -1, :]  # shape: (B=1, vocab_size)        \n",
        "        # Apply temperature\n",
        "        if temperature > 0:\n",
        "            logits = logits / temperature\n",
        "            probs = F.softmax(logits, dim=-1)\n",
        "            # Top-k sampling\n",
        "            if top_k > 0:\n",
        "                top_k_values, top_k_indices = torch.topk(probs, top_k)\n",
        "                top_k_probs = top_k_values / top_k_values.sum(dim=-1, keepdim=True)\n",
        "                # Select the index from the top_k indices\n",
        "                ix = torch.multinomial(top_k_probs, num_samples=1)\n",
        "                next_token = top_k_indices.gather(1, ix).squeeze(1)        \n",
        "            # Top-p sampling\n",
        "            elif top_p < 1.0:\n",
        "                sorted_probs, sorted_indices = torch.sort(probs, descending=True)\n",
        "                cumulative_probs = torch.cumsum(sorted_probs, dim=-1)\n",
        "                # Remove tokens with cumulative probability above the threshold\n",
        "                sorted_indices_to_remove = cumulative_probs > top_p\n",
        "                # Shift the indices to the right to keep the first token above the threshold\n",
        "                sorted_indices_to_remove[..., 1:] = sorted_indices_to_remove[..., :-1].clone()\n",
        "                sorted_indices_to_remove[..., 0] = 0\n",
        "\n",
        "                indices_to_remove = sorted_indices_to_remove.scatter(1, sorted_indices, sorted_indices_to_remove)\n",
        "                probs[indices_to_remove] = 0\n",
        "                next_token = torch.multinomial(probs, num_samples=1).squeeze(1)\n",
        "            # Plain temperature sampling\n",
        "            else:\n",
        "                next_token = torch.multinomial(probs, num_samples=1)[0]\n",
        "        else:\n",
        "            # Greedy decoding (argmax)\n",
        "            next_token = torch.argmax(logits, dim=-1)\n",
        "        # Append new token\n",
        "        if verbose:\n",
        "            print(f\"Next token: {tokenizer.decode([next_token.item()])} (ID: {next_token.item()})\")\n",
        "        idx = torch.cat((idx, next_token.unsqueeze(0)), dim=1)\n",
        "    return tokenizer.decode(idx[0].tolist())\n"
      ]
    },
    {
      "cell_type": "markdown",
      "id": "36709c59",
      "metadata": {
        "id": "36709c59"
      },
      "source": [
        "## Compare generate vs generateV2\n",
        "\n",
        "Add your comments and findings"
      ]
    },
    {
      "cell_type": "code",
      "execution_count": 130,
      "id": "076f9e0f",
      "metadata": {
        "id": "076f9e0f"
      },
      "outputs": [
        {
          "name": "stdout",
          "output_type": "stream",
          "text": [
            "> Result using generate():\n",
            "One fire burns out another'd heirs\n",
            "Wall of the vitch promised him for,\n",
            "And f\n",
            "\n",
            "--------------------\n",
            "\n",
            "> Result using generateV2() with temperature 0:\n",
            "One fire burns out another that the straight the straight the straight the s\n",
            "\n",
            "--------------------\n",
            "\n",
            "> Result using generateV2() with temperature 0.7 and top_k=10:\n",
            "One fire burns out another's love\n",
            "And man, and three the before his molest m\n",
            "\n",
            "--------------------\n",
            "\n",
            "> Result using generateV2() with temperature 0.7 and top_p=0.9:\n",
            "One fire burns out another find thee but of your as with of his holy call be\n"
          ]
        }
      ],
      "source": [
        "result_default = generate(model=model, prompt=\"One fire burns out another\", max_new_tokens=50, use_cache=True, device=device)\n",
        "result_t0 = generateV2(model=model, prompt=\"One fire burns out another\", max_new_tokens=50, use_cache=True, temperature=0, device=device)\n",
        "result_topk = generateV2(model=model, prompt=\"One fire burns out another\", max_new_tokens=50, use_cache=True, temperature=0.7, top_k=10, device=device)\n",
        "result_topp = generateV2(model=model, prompt=\"One fire burns out another\", max_new_tokens=50, use_cache=True, temperature=0.7, top_p=0.9, device=device)\n",
        "\n",
        "print(f\"> Result using generate():\\n{result_default}\")\n",
        "print(\"\\n\" + \"-\" * 20 + \"\\n\")\n",
        "print(f\"> Result using generateV2() with temperature 0:\\n{result_t0}\")\n",
        "print(\"\\n\" + \"-\" * 20 + \"\\n\")\n",
        "print(f\"> Result using generateV2() with temperature 0.7 and top_k=10:\\n{result_topk}\")\n",
        "print(\"\\n\" + \"-\" * 20 + \"\\n\")\n",
        "print(f\"> Result using generateV2() with temperature 0.7 and top_p=0.9:\\n{result_topp}\")"
      ]
    },
    {
      "cell_type": "markdown",
      "id": "08f5f59e",
      "metadata": {},
      "source": [
        "Se realizaron pruebas de generación de texto utilizando distintas configuraciones de decodificación sobre el modelo `TinyGPT`, dadas las mismas condiciones iniciales:\n",
        "\n",
        "- Prompt: `\"One fire burns out another\"`\n",
        "- Tokens generados: `50`\n",
        "- Uso de cache activado (`use_cache=True`)\n",
        "\n",
        "Se compararon cuatro configuraciones:\n",
        "\n",
        "1. `generate()`: versión original por defecto.\n",
        "2. `generateV2()` con `temperature=0` (decodificación greedy determinista).\n",
        "3. `generateV2()` con `temperature=0.7` y `top_k=10`.\n",
        "4. `generateV2()` con `temperature=0.7` y `top_p=0.9`.\n",
        "\n",
        "#### Observaciones generales\n",
        "\n",
        "- Todas las variantes generan palabras válidas en inglés, lo cual indica que el modelo ha aprendido una representación estadística coherente del lenguaje incluso con una tokenización a nivel carácter.\n",
        "- En todas las variantes, el texto generado muestra una cierta estructura sintáctica, incluyendo puntuación correcta, nombres propios, signos de exclamación o cambio de hablante, lo que sugiere que el modelo aprendió patrones estructurales básicos.\n",
        "\n",
        "\n",
        "#### `temperature=0` (greedy decoding)\n",
        "\n",
        "- La generación es completamente determinista.\n",
        "- Se observa que el modelo tiende a entrar en repeticiones tras algunos tokens, repitiendo ciertas secuencias sin control.\n",
        "- Este comportamiento es típico en decodificación greedy en modelos pequeños o poco regulares: al elegir siempre el token más probable, se cae fácilmente en bucles locales de alta probabilidad.\n",
        "\n",
        "\n",
        "#### `temperature=0.7` + `top_k=10`\n",
        "\n",
        "- La generación muestra más variabilidad y cambios de tema o hablante, lo que sugiere mayor diversidad léxica.\n",
        "- Se logra un buen balance entre coherencia y creatividad: aparecen palabras y estructuras no triviales, pero sin degenerar en ruido aleatorio.\n",
        "- Esta configuración es útil cuando se quiere mantener un control razonable del contenido, pero con diversidad controlada.\n",
        "\n",
        "\n",
        "#### `temperature=0.7` + `top_p=0.9`\n",
        "\n",
        "- También genera frases con variedad léxica, aunque con un comportamiento más continuo y fluido, sin cortes abruptos como los que a veces produce `top_k`.\n",
        "- El enfoque nucleus sampling permite incluir tokens de probabilidad no máxima si pertenecen al \"núcleo\" semántico de alta probabilidad, lo que favorece la fluidez.\n",
        "\n",
        "\n",
        "#### Conclusión\n",
        "\n",
        "A pesar de la simpleza del modelo (TinyGPT con tokenización carácter a carácter), las estrategias de decodificación tienen un impacto directo en la calidad, diversidad y coherencia del texto generado.\n",
        "\n",
        "- `temperature=0` puede llevar a repeticiones y texto plano.\n",
        "- `temperature > 0` combinado con `top_k` o `top_p` produce resultados más ricos y variados."
      ]
    },
    {
      "cell_type": "markdown",
      "id": "9f07ffc1",
      "metadata": {
        "id": "9f07ffc1"
      },
      "source": [
        "## Task II\n",
        "- Make TinyGPT a Mixture of Experts (MoE) of at least 2 experts."
      ]
    },
    {
      "cell_type": "markdown",
      "id": "d877d7f0",
      "metadata": {},
      "source": [
        "En esta sección se definen los dos bloques fundamentales para construir un módulo Mixture of Experts (MoE) dentro del modelo `TinyGPT`: los expertos y el mecanismo de gating.\n",
        "\n",
        "#### `Expert`: red neuronal individual\n",
        "\n",
        "- Representa un experto MLP independiente, con una arquitectura similar al bloque feedforward tradicional de un Transformer.\n",
        "- Está compuesto por una secuencia lineal → ReLU → lineal → dropout.\n",
        "- Opera sobre tensores de forma `(N, D)` donde `N` es el número de tokens y `D` es la dimensión del embedding.\n",
        "- Recibe tokens ya aplanados desde la capa `MoELayer` y devuelve la misma forma tras aplicar la red.\n",
        "- Este bloque puede ser instanciado múltiples veces para formar un conjunto de expertos que trabajen en paralelo (aunque no necesariamente todos son activados para cada input).\n",
        "\n",
        "#### `Gate`: red de selección de expertos\n",
        "\n",
        "- Este módulo actúa como un mecanismo de enrutamiento que decide qué expertos deben activarse para cada token.\n",
        "- Para cada vector de embedding de entrada, produce un vector de logits de tamaño `num_experts`.\n",
        "- Estas salidas pueden ser convertidas a probabilidades (por ejemplo, con softmax o top-k) para determinar cómo combinar la salida de los expertos o seleccionar los más relevantes.\n",
        "\n",
        "Ambas clases (`Expert` y `Gate`) son componentes reutilizables y modulares, y juntas forman la base del bloque MoE que será integrado en la arquitectura general del modelo `TinyGPT`.\n",
        "\n",
        "En los siguientes pasos se implementará un mecanismo de enrutamiento y combinación que hará uso de estas dos clases para construir una capa `MoEFFN`."
      ]
    },
    {
      "cell_type": "code",
      "execution_count": 131,
      "id": "ac0b57f2",
      "metadata": {
        "id": "ac0b57f2"
      },
      "outputs": [],
      "source": [
        "class Expert(nn.Module):\n",
        "    \"\"\"\n",
        "    An expert MLP instance from within a MoE.\n",
        "    \"\"\"\n",
        "\n",
        "    def __init__(self, config: GPTConfig) -> None:\n",
        "        \"\"\"\n",
        "        Initiates expert MLP given dimensions/hidden dimensions.\n",
        "        \"\"\"\n",
        "        super().__init__()\n",
        "        self.net = nn.Sequential(\n",
        "            nn.Linear(config.n_embd, 4 * config.n_embd),\n",
        "            nn.ReLU(),\n",
        "            nn.Linear(4 * config.n_embd, config.n_embd),\n",
        "            nn.Dropout(config.dropout)\n",
        "        ) ## Example network\n",
        "\n",
        "    def forward(self, x: torch.Tensor) -> torch.Tensor:\n",
        "        \"\"\"\n",
        "        Forward pass through the expert MLP.\n",
        "\n",
        "        Args:\n",
        "            x (torch.Tensor): Input tensor of shape (N, D) where N is number of tokens, D is embedding dimension.\n",
        "\n",
        "        Returns:\n",
        "            torch.Tensor: Output tensor of shape (N, D) after passing through the MLP.\n",
        "        \"\"\"\n",
        "        # Input is already flattened (N, D) when coming from MoELayer\n",
        "        return self.net(x)\n",
        "\n",
        "\n",
        "class Gate(nn.Module):\n",
        "    \"\"\"\n",
        "    MoE gating network MLP.\n",
        "    \"\"\"\n",
        "\n",
        "    def __init__(self, config: GPTConfig):\n",
        "        super().__init__()\n",
        "        self.proj = nn.Linear(config.n_embd, config.moe.num_experts)\n",
        "\n",
        "    def forward(self, x):\n",
        "        \"\"\"\n",
        "        Forward pass through the MoE gating network.\n",
        "\n",
        "        This method applies a linear projection to the input tensor to produce\n",
        "        logits for each expert. The output shape is (B, T, num_experts), where\n",
        "        B is batch size, T is sequence length, and num_experts is the number of experts.\n",
        "\n",
        "        The logits can be used to determine the weights for each expert in the MoE layer.\n",
        "\n",
        "        Args:\n",
        "            x (torch.Tensor): Input tensor of shape (B, T, D), where B is batch size, T is sequence length, and D is embedding dimension.\n",
        "\n",
        "        Returns:\n",
        "            torch.Tensor: Output tensor of shape (B, T, num_experts) containing the logits for each expert.\n",
        "        \"\"\"\n",
        "        return self.proj(x)"
      ]
    },
    {
      "cell_type": "markdown",
      "id": "81d3d56d",
      "metadata": {},
      "source": [
        "Este módulo define la capa principal de tipo Mixture of Experts (MoE). Su función es aplicar múltiples expertos `MLP` en paralelo y decidir, de manera inteligente, qué subconjunto de expertos usar por cada token.\n",
        "\n",
        "La capa está compuesta por:\n",
        "- Una lista de expertos (`nn.ModuleList`) independientes.\n",
        "- Una red de gating (`Gate`) que determina a qué experto debe ir cada token.\n",
        "- Un mecanismo de ruteo basado en top-k selección dura (hard top-k routing).\n",
        "\n",
        "#### Funcionamiento detallado\n",
        "\n",
        "1. Aplanamiento del input:\n",
        "   - Se transforma el input `(B, T, D)` en una matriz 2D `(N, D)` donde `N = B × T`, para tratar cada token como una unidad independiente.\n",
        "\n",
        "2. Cálculo de scores por experto:\n",
        "   - Cada token es evaluado por la red de gating para producir un vector de logits sobre los expertos → `(N, E)`, donde `E` es la cantidad total de expertos.\n",
        "\n",
        "3. Selección top-k de expertos:\n",
        "   - Para cada token se seleccionan los `k` expertos más relevantes según los logits.\n",
        "\n",
        "4. Procesamiento distribuido:\n",
        "   - Cada experto recibe únicamente los tokens que le fueron asignados por el ruteo top-k.\n",
        "   - La salida de cada experto se redistribuye en sus posiciones originales en el tensor de salida.\n",
        "\n",
        "5. Combinación y normalización:\n",
        "   - En caso de que un token sea procesado por más de un experto, las salidas se suman y se promedian para mantener la escala de activación estable.\n",
        "\n",
        "#### Observaciones\n",
        "\n",
        "- Este diseño implementa un ruteo duro y disperso, lo cual:\n",
        "  - Reduce el cómputo (cada token es procesado solo por `k < E` expertos).\n",
        "  - Favorece la especialización de expertos en diferentes regiones del espacio de representación.\n",
        "- En esta implementación, el ruteo es determinista dentro de cada forward (no usa muestreo estocástico).\n"
      ]
    },
    {
      "cell_type": "code",
      "execution_count": 132,
      "id": "1f606f6f",
      "metadata": {
        "id": "1f606f6f"
      },
      "outputs": [],
      "source": [
        "class MoELayer(nn.Module):\n",
        "    \"\"\"\n",
        "    Mixture of experts FeedForward Layer\n",
        "    \"\"\"\n",
        "\n",
        "    def __init__(self, experts : List[nn.Module], gate : nn.Module, moe_args : MoEArgs):\n",
        "        super().__init__()\n",
        "        self.experts = nn.ModuleList(experts)\n",
        "        self.gate = gate\n",
        "        self.args = moe_args\n",
        "\n",
        "    def forward(self, x: torch.Tensor) -> torch.Tensor:\n",
        "        \"\"\"\n",
        "        Forward pass for the Mixture of Experts (MoE) layer.\n",
        "\n",
        "        This layer distributes each token's representation to a subset of experts,\n",
        "        determined by a gating network. Specifically:\n",
        "\n",
        "        1. Each token (of shape D) is passed through the gate to obtain a score for each expert.\n",
        "        2. The top-k experts with the highest scores are selected per token.\n",
        "        3. Each expert processes only the tokens routed to it.\n",
        "        4. The outputs are gathered and combined in their original positions.\n",
        "\n",
        "        This implementation uses top-k hard routing, with optional overlapping of tokens across experts.\n",
        "\n",
        "        Args:\n",
        "            x (torch.Tensor): Input tensor of shape (B, T, D), where B is batch size, T is sequence length, and D is embedding dimension.\n",
        "\n",
        "        Returns:\n",
        "            torch.Tensor: Output tensor of shape (B, T, D) after processing through the experts.\n",
        "        \n",
        "        Note:\n",
        "            - The output is additive in case multiple experts are used for a token.\n",
        "            - The output is averaged by the number of experts per token to maintain scale.\n",
        "        \"\"\"\n",
        "        B, T, D = x.shape\n",
        "        x_flat = x.view(B * T, D)  # Flatten to (N, D), where N = B*T\n",
        "        # Step 1: Compute expert logits for each token\n",
        "        logits = self.gate(x_flat)  # (N, E), where E = number of experts\n",
        "        # Step 2: Select top-k experts per token\n",
        "        topk = self.args.num_experts_per_token\n",
        "        topk_scores, topk_indices = torch.topk(logits, k=topk, dim=-1)  # (N, k)\n",
        "        # Step 3: Initialize output buffer\n",
        "        out = torch.zeros_like(x_flat)  # (N, D)\n",
        "        # Step 4: For each expert, gather inputs, process, and scatter outputs\n",
        "        for expert_idx, expert in enumerate(self.experts):\n",
        "            # Boolean mask where token routed to this expert\n",
        "            mask = (topk_indices == expert_idx)  # (N, k)\n",
        "            selected = mask.any(dim=-1).nonzero(as_tuple=False).squeeze(-1)  # (n_selected,)\n",
        "            if selected.numel() == 0:\n",
        "                continue  # Skip unused expert\n",
        "            # Gather selected inputs\n",
        "            x_selected = x_flat[selected]  # (n_selected, D)\n",
        "            # Forward pass through expert\n",
        "            out_selected = expert(x_selected)  # (n_selected, D)\n",
        "            # Scatter outputs back to their positions\n",
        "            out[selected] += out_selected  # Note: additive in case of multiple expert usage\n",
        "        # Divide by number of experts per token to average\n",
        "        out = out / topk  # (N, D)        \n",
        "        # Step 5: Reshape back to (B, T, D)\n",
        "        return out.view(B, T, D)"
      ]
    },
    {
      "cell_type": "markdown",
      "id": "239af8dc",
      "metadata": {},
      "source": [
        "Este módulo define la capa `MoEFFN`, que reemplaza al bloque de tipo `FeedForward` tradicional utilizado dentro de cada bloque Transformer. En lugar de una única red MLP, se utiliza una Mixture of Experts (MoE), permitiendo una computación más especializada y selectiva por token.\n",
        "\n",
        "#### ¿Qué hace esta clase?\n",
        "\n",
        "- Crea una instancia de `MoELayer`, que contiene:\n",
        "  - Una lista de expertos independientes (`Expert`), cada uno con su propio MLP.\n",
        "  - Un módulo de gating (`Gate`), que determina qué expertos deben activarse por cada token.\n",
        "  - La lógica de ruteo top-k, configurable vía `config.moe`.\n",
        "- Implementa un `forward()` que simplemente reenvía el input a través del `MoELayer`.\n",
        "\n",
        "#### Ventajas del enfoque\n",
        "\n",
        "- Introduce diversidad de expertos, donde diferentes tokens pueden activar diferentes rutas de cómputo.\n",
        "- Permite que los expertos se especialicen en distintos subespacios del embedding.\n",
        "- Escalable: se puede ajustar fácilmente el número de expertos y el número de expertos por token."
      ]
    },
    {
      "cell_type": "code",
      "execution_count": 133,
      "id": "4507fcd8",
      "metadata": {
        "id": "4507fcd8"
      },
      "outputs": [],
      "source": [
        "class MoEFFN(nn.Module):\n",
        "    def __init__(self, config: GPTConfig):\n",
        "        super().__init__()\n",
        "        self.moe = MoELayer(  \n",
        "            experts=[Expert(config) for _ in range(config.moe.num_experts)],\n",
        "            gate=Gate(config),\n",
        "            moe_args=config.moe\n",
        "        )\n",
        "\n",
        "    def forward(self, x):\n",
        "        \"\"\"\n",
        "        Forward pass through the Mixture of Experts (MoE) FeedForward Network.\n",
        "\n",
        "        This method applies the MoE layer to the input tensor. The MoE layer consists of\n",
        "        multiple experts and a gating mechanism that routes tokens to the appropriate experts.\n",
        "\n",
        "        The input tensor is expected to have shape (B, T, D), where:\n",
        "        - B is the batch size,\n",
        "        - T is the sequence length,\n",
        "        - D is the embedding dimension.\n",
        "\n",
        "        The output tensor will have the same shape as the input tensor, with each token\n",
        "        processed by the selected experts based on the gating mechanism.\n",
        "\n",
        "        Args:\n",
        "            x (torch.Tensor): Input tensor of shape (B, T, D).\n",
        "\n",
        "        Returns:\n",
        "            torch.Tensor: Output tensor of the same shape (B, T, D) after passing through the MoE layer.\n",
        "        \"\"\"\n",
        "        return self.moe(x)"
      ]
    },
    {
      "cell_type": "markdown",
      "id": "dJCjQniOr-TC",
      "metadata": {
        "id": "dJCjQniOr-TC"
      },
      "source": [
        "## Adding MoE to Config"
      ]
    },
    {
      "cell_type": "code",
      "execution_count": 134,
      "id": "7077f76b",
      "metadata": {
        "id": "7077f76b"
      },
      "outputs": [],
      "source": [
        "config.ff_class = MoEFFN\n",
        "config.moe = MoEArgs(num_experts=4, num_experts_per_token=1)"
      ]
    },
    {
      "cell_type": "markdown",
      "id": "iMKvmdxYrcDn",
      "metadata": {
        "id": "iMKvmdxYrcDn"
      },
      "source": [
        "# Training TinyGPT-MoE\n"
      ]
    },
    {
      "cell_type": "code",
      "execution_count": 135,
      "id": "FJIDVc0KrpEM",
      "metadata": {
        "id": "FJIDVc0KrpEM"
      },
      "outputs": [],
      "source": [
        "m_moe = TinyGPT(config).to(device)\n",
        "model_moe = torch.compile(m_moe)"
      ]
    },
    {
      "cell_type": "code",
      "execution_count": 136,
      "id": "762a7e42",
      "metadata": {},
      "outputs": [],
      "source": [
        "# Epochs\n",
        "epochs = 20\n",
        "\n",
        "# Optimizer, scheduler, and loss function\n",
        "optimizer = AdamW(model_moe.parameters(), lr=1e-3)\n",
        "# scheduler = StepLR(optimizer, step_size=100, gamma=0.9)\n",
        "total_steps = len(train_loader) * epochs\n",
        "scheduler = CosineAnnealingLR(optimizer, T_max=total_steps, eta_min=1e-5)\n",
        "loss_fn = torch.nn.CrossEntropyLoss()"
      ]
    },
    {
      "cell_type": "code",
      "execution_count": 137,
      "id": "06ca44fe",
      "metadata": {},
      "outputs": [
        {
          "name": "stdout",
          "output_type": "stream",
          "text": [
            "Loading model weights from checkpoint ./moe_checkpoints/checkpoint_final.pt\n",
            "Metrics loaded from CSV.\n"
          ]
        },
        {
          "data": {
            "image/png": "[encoded data removed]",
            "text/plain": [
              "<Figure size 1200x500 with 2 Axes>"
            ]
          },
          "metadata": {},
          "output_type": "display_data"
        }
      ],
      "source": [
        "if not train_model and os.path.exists(\"./moe_checkpoints/checkpoint_final.pt\"):\n",
        "    checkpoint_path = \"./moe_checkpoints/checkpoint_final.pt\"\n",
        "    print(f\"Loading model weights from checkpoint {checkpoint_path}\")\n",
        "    checkpoint = torch.load(checkpoint_path, map_location=device)\n",
        "    model_moe.load_state_dict(checkpoint[\"model_state_dict\"])\n",
        "    if os.path.exists(\"./moe_checkpoints/metrics.csv\"):\n",
        "        df_metrics = pd.read_csv(\"./moe_checkpoints/metrics.csv\")\n",
        "        print(\"Metrics loaded from CSV.\")\n",
        "        plot_metrics(df_metrics)\n",
        "    else:\n",
        "        print(\"No metrics CSV found.\")\n",
        "else:\n",
        "    print(\"Training the model\")\n",
        "    trainer = Trainer(\n",
        "        model=model_moe,\n",
        "        train_data_loader=train_loader,\n",
        "        test_data_loader=val_loader,\n",
        "        loss_fn=loss_fn,\n",
        "        gradient_accumulation_steps=1,\n",
        "        optimizer=optimizer,\n",
        "        scheduler=scheduler,\n",
        "        device=device,\n",
        "        save_dir=\"./moe_checkpoints\",\n",
        "        save_every_n=500\n",
        "    )\n",
        "    df_metrics = train_and_evaluate(trainer, epochs=epochs, save_csv_path='./moe_checkpoints/metrics.csv')"
      ]
    },
    {
      "cell_type": "markdown",
      "id": "db961b78",
      "metadata": {},
      "source": [
        "#### Análisis de la evolución de pérdida y perplejidad – Modelo con Mixture of Experts (MoE)\n",
        "\n",
        "Se entrenó el modelo `TinyGPT` con una arquitectura basada en Mixture of Experts (MoE), utilizando 4 expertos y 1 experto activado por token (`top-k = 1`), durante 20 épocas. El entrenamiento se realizó con un `batch_size = 512`, logrando una alta utilización de GPU sin provocar errores de memoria. La figura muestra la evolución de la pérdida (`loss`) y la perplejidad (`perplexity`) en los conjuntos de entrenamiento y validación.\n",
        "\n",
        "- La pérdida de entrenamiento descendió rápidamente durante las primeras épocas, estabilizándose cerca de 1.48 hacia el final.\n",
        "- La pérdida de validación también mostró una tendencia decreciente, pero con una pendiente más suave, estabilizándose cerca de 1.60.\n",
        "- La perplejidad se redujo progresivamente, alcanzando aproximadamente:\n",
        "  - 4.4 en entrenamiento,\n",
        "  - 5.0 en validación.\n",
        "\n",
        "No se observan signos de overfitting: las curvas de validación siguen la tendencia general sin incremento abrupto ni divergencia marcada respecto a las curvas de entrenamiento.\n",
        "\n",
        "#### Comparación con el modelo base sin MoE\n",
        "\n",
        "Respecto al modelo sin MoE, los resultados del modelo con expertos muestran:\n",
        "\n",
        "- Una mejor pérdida de entrenamiento (1.48 vs. 1.53) y validación (1.60 vs. 1.65).\n",
        "- Una menor perplejidad tanto en entrenamiento (4.4 vs. 4.6) como en validación (5.0 vs. 5.2).\n",
        "\n",
        "Esto sugiere que introducir especialización en capas feed-forward a través de expertos mejora la capacidad expresiva del modelo, permitiendo una mejor adaptación al corpus sin incurrir en sobreajuste.\n",
        "\n",
        "#### Conclusión\n",
        "\n",
        "El uso de MoE ha demostrado ser beneficioso en términos de pérdida y perplejidad. El modelo logra mejor rendimiento general con la misma cantidad de épocas que el modelo base, validando empíricamente que la especialización por expertos puede ser útil incluso en arquitecturas pequeñas como `TinyGPT`."
      ]
    },
    {
      "cell_type": "markdown",
      "id": "b67bb7ca",
      "metadata": {},
      "source": [
        "## Comparing both models"
      ]
    },
    {
      "cell_type": "code",
      "execution_count": 138,
      "id": "ac34ca8b",
      "metadata": {},
      "outputs": [
        {
          "data": {
            "text/plain": [
              "'To be the storm of the will be to him thee,\\nAnd stand that thou hast\\nThanks and shalt stand the content.\\n'"
            ]
          },
          "execution_count": 138,
          "metadata": {},
          "output_type": "execute_result"
        }
      ],
      "source": [
        "generateV2(model=model, prompt=\"To be\", max_new_tokens=100, use_cache=True, temperature=1, top_k=3, device=device) "
      ]
    },
    {
      "cell_type": "code",
      "execution_count": 139,
      "id": "5c52f058",
      "metadata": {},
      "outputs": [
        {
          "data": {
            "text/plain": [
              "'To be too strike to the prince of my service as in the senators of men the service.\\n\\nLADY CAPULET:\\nThat s'"
            ]
          },
          "execution_count": 139,
          "metadata": {},
          "output_type": "execute_result"
        }
      ],
      "source": [
        "generateV2(model=model_moe, prompt=\"To be\", max_new_tokens=100, use_cache=True, temperature=1, top_k=3, device=device)"
      ]
    },
    {
      "cell_type": "markdown",
      "id": "af61bd37",
      "metadata": {},
      "source": [
        "Ambos modelos, tanto el estándar como el que incorpora MoE, generan textos con un nivel de coherencia local aceptable, aunque sin una semántica clara ni fluidez sostenida. La comparación directa revela lo siguiente:\n",
        "\n",
        "- **Sin MoE:** El texto generado mantiene estructuras gramaticales simples y repetitivas, con frases que presentan cierta cadencia pero carecen de sentido profundo.\n",
        "  \n",
        "- **Con MoE:** El modelo con MoE produce frases ligeramente más variadas en construcción, pero igualmente incoherentes desde un punto de vista semántico. Algunas combinaciones son incluso más ruidosas gramaticalmente.\n",
        "\n",
        "En definitiva, **no se observa una mejora cualitativa clara** en el texto generado por el modelo con MoE respecto al modelo base. Ambos modelos fallan en generar secuencias con continuidad semántica o lógica, y operan más como generadores de patrones superficiales de lenguaje que como modelos con comprensión contextual."
      ]
    },
    {
      "cell_type": "markdown",
      "id": "e7e4b4aa",
      "metadata": {
        "id": "e7e4b4aa"
      },
      "source": [
        "## Visualizing Attention\n",
        "\n",
        "As we know, a GPT has the task to complete text, let's see the attention maps generated by a pretrained model."
      ]
    },
    {
      "cell_type": "markdown",
      "id": "f3cccc85",
      "metadata": {},
      "source": [
        "La función `visualize_attention` permite inspeccionar cómo el modelo TinyGPT distribuye su atención a nivel de caracteres durante la generación de texto. Es una herramienta clave para analizar el comportamiento del modelo entrenado y verificar si respeta el diseño esperado de un Transformer autoregresivo.\n",
        "\n",
        "```python\n",
        "@torch.no_grad()\n",
        "def visualize_attention(model, prompt, max_len=10):\n",
        "    ...\n",
        "```\n",
        "\n",
        "#### ¿Qué hace esta función?\n",
        "\n",
        "1. Codifica el `prompt` carácter por carácter.\n",
        "2. Realiza un `forward` con `return_weights=True` para obtener los pesos de atención*de todas las cabezas de todas las capas.\n",
        "3. Para cada capa y cada cabeza, se grafica la matriz de atención:\n",
        "   - Eje X: posición de las keys (tokens \"mirados\").\n",
        "   - Eje Y: posición de las queries (tokens que \"miran\").\n",
        "   - El valor en (i, j) indica cuánto mira el token `i` al token `j`.\n",
        "\n",
        "#### Fundamento teórico\n",
        "\n",
        "En un modelo Transformer causal con tokenización carácter a carácter:\n",
        "\n",
        "- La entrada es una secuencia de IDs de caracteres (`a`, `b`, `c`, etc.).\n",
        "- Cada cabeza de atención aprende a establecer conexiones entre posiciones anteriores de caracteres.\n",
        "- El enmascaramiento causal (triangular inferior) impide que un token mire hacia adelante.\n",
        "- A diferencia de modelos con tokenización semántica (como BPE o WordPiece), aquí no se capturan directamente relaciones entre palabras completas, sino patrones más bajos: fonéticos, morfológicos, estructurales o de puntuación.\n",
        "\n",
        "#### ¿Qué esperar de la visualización?\n",
        "\n",
        "- Patrones diagonales fuertes: lo esperable es que cada token atienda principalmente a los caracteres inmediatos anteriores. Esto se ve como una diagonal dominante desde la esquina superior izquierda hacia la inferior derecha, confirmando que el modelo sigue una atención secuencial.\n",
        "\n",
        "- Variabilidad entre cabezas:\n",
        "  - Algunas pueden enfocarse casi exclusivamente en el carácter previo (atención puntual).\n",
        "  - Otras distribuyen atención más uniformemente sobre el contexto disponible, lo que ayuda a capturar prefijos, sufijos o estructuras repetitivas (ej: `ing`, `tion`, saltos de línea, etc.).\n",
        "\n",
        "- Evolución a través de capas:\n",
        "  - Las primeras capas tienden a mostrar atención más local (letras cercanas).\n",
        "  - Las capas posteriores pueden exhibir patrones más largos o rítmicos, como atención a signos de puntuación distantes o bloques estructurales similares (por ejemplo: apertura y cierre de paréntesis, comillas, etc.).\n",
        "\n",
        "Este tipo de visualización es especialmente útil cuando se trabaja con modelos simples, entrenados desde cero, ya que permite identificar tanto comportamientos esperados como anomalías o sesgos que pueden surgir durante el entrenamiento."
      ]
    },
    {
      "cell_type": "code",
      "execution_count": 140,
      "id": "c08536d8",
      "metadata": {
        "id": "c08536d8"
      },
      "outputs": [],
      "source": [
        "@torch.no_grad()\n",
        "def visualize_attention(model, prompt, max_len=10):\n",
        "    model.eval()\n",
        "    idx = torch.tensor(tokenizer.encode(prompt), dtype=torch.long)[None, :].to(device)\n",
        "\n",
        "    # Run forward with return_weights=True\n",
        "    logits, all_weights = model(idx, return_weights=True)\n",
        "\n",
        "    # all_weights is a list of length n_layers\n",
        "    # each element: shape (n_heads, batch_size, seq_len, seq_len)\n",
        "    # We'll visualize the first batch element only\n",
        "\n",
        "    n_layers = len(all_weights)\n",
        "    n_heads = all_weights[0].shape[0]\n",
        "    seq_len = all_weights[0].shape[-1]\n",
        "\n",
        "    for layer_i in range(n_layers):\n",
        "        fig, axes = plt.subplots(1, n_heads, figsize=(5 * n_heads, 5))\n",
        "        if n_heads == 1:\n",
        "            axes = [axes]\n",
        "        for head_i in range(n_heads):\n",
        "            attn = all_weights[layer_i][head_i, 0].cpu()  # shape (seq_len, seq_len)\n",
        "            im = axes[head_i].imshow(attn, cmap='viridis')\n",
        "            axes[head_i].set_title(f'Layer {layer_i + 1} Head {head_i + 1}')\n",
        "            axes[head_i].set_xlabel('Key Position')\n",
        "            axes[head_i].set_ylabel('Query Position')\n",
        "            axes[head_i].set_xticks(range(seq_len))\n",
        "            axes[head_i].set_yticks(range(seq_len))\n",
        "            fig.colorbar(im, ax=axes[head_i])\n",
        "        plt.tight_layout()\n",
        "        plt.show()\n"
      ]
    },
    {
      "cell_type": "code",
      "execution_count": 141,
      "id": "83a8993c",
      "metadata": {
        "colab": {
          "base_uri": "https://localhost:8080/",
          "height": 702
        },
        "id": "83a8993c",
        "outputId": "fc7abe98-3bca-49f8-b6fc-a161c3ed17a1"
      },
      "outputs": [
        {
          "data": {
            "image/png": "[encoded data removed]",
            "text/plain": [
              "<Figure size 2000x500 with 8 Axes>"
            ]
          },
          "metadata": {},
          "output_type": "display_data"
        },
        {
          "data": {
            "image/png": "[encoded data removed]",
            "text/plain": [
              "<Figure size 2000x500 with 8 Axes>"
            ]
          },
          "metadata": {},
          "output_type": "display_data"
        }
      ],
      "source": [
        "prompt = \"To be or not to be\"\n",
        "visualize_attention(model, prompt)"
      ]
    },
    {
      "cell_type": "code",
      "execution_count": 142,
      "id": "0b17cd15",
      "metadata": {},
      "outputs": [
        {
          "data": {
            "image/png": "[encoded data removed]",
            "text/plain": [
              "<Figure size 2000x500 with 8 Axes>"
            ]
          },
          "metadata": {},
          "output_type": "display_data"
        },
        {
          "data": {
            "image/png": "[encoded data removed]",
            "text/plain": [
              "<Figure size 2000x500 with 8 Axes>"
            ]
          },
          "metadata": {},
          "output_type": "display_data"
        }
      ],
      "source": [
        "visualize_attention(model_moe, prompt)"
      ]
    },
    {
      "cell_type": "markdown",
      "id": "9d6a620a",
      "metadata": {},
      "source": [
        "## Conclusions"
      ]
    },
    {
      "cell_type": "code",
      "execution_count": 143,
      "id": "665a486d",
      "metadata": {},
      "outputs": [
        {
          "name": "stdout",
          "output_type": "stream",
          "text": [
            "Vanilla model parameters: 110464\n",
            "MoE model parameters: 309512\n"
          ]
        }
      ],
      "source": [
        "def count_parameters(model):\n",
        "    return sum(p.numel() for p in model.parameters() if p.requires_grad)\n",
        "\n",
        "print(f\"Vanilla model parameters: {count_parameters(model)}\")\n",
        "print(f\"MoE model parameters: {count_parameters(model_moe)}\")"
      ]
    },
    {
      "cell_type": "markdown",
      "id": "db1223fe",
      "metadata": {},
      "source": [
        "Durante el trabajo práctico se entrenaron dos variantes de TinyGPT sobre *tinyshakespeare.txt*: un Transformer con Feed-Forward denso (Dense) y otro con Mixture of Experts (MoE) (4 expertos, top-k=1 por token). En ambos casos se monitoreó loss y perplejidad por época para evaluar la evolución del aprendizaje.\n",
        "\n",
        "El uso de un tokenizer carácter-a-carácter limitó la granularidad semántica aprendible. Aun así, los modelos captaron patrones estadísticos robustos: puntuación consistente, mayúsculas, nombres propios y cambios de hablante. Esta elección explica por qué las mejoras cuantitativas no siempre se traducen en saltos cualitativos notorios en el texto generado.\n",
        "\n",
        "La función `generate()` se amplió para soportar greedy, temperature sampling y top-k/top-p. Todas las variantes produjeron palabras válidas en inglés y estructura sintáctica razonable. Con temperature=0 (greedy) se observaron repeticiones, mientras que temperature>0 con top-k/top-p redujo degeneraciones y añadió diversidad. Importante: *a igualdad de parámetros de decodificación*, las diferencias cualitativas entre Dense y MoE fueron sutiles; ambos mantienen coherencia local pero sin continuidad semántica prolongada, consistente con el tamaño del modelo y la tokenización por caracteres.\n",
        "\n",
        "El modelo con uso de MoE superó al Dense en métricas:\n",
        "- Parámetros: Dense ≈ 110,464 vs. MoE ≈ 309,512.\n",
        "- Tendencia de entrenamiento/validación: el MoE logró loss y perplejidad más bajas (p. ej., ~1.48/4.4 en train y ~1.60/5.0 en val) que el Dense (~1.53/4.6 en train y ~1.65/5.2 en val).  \n",
        "Estas diferencias indican que el ruteo a expertos habilita mayor capacidad efectiva con el mismo budget de cómputo por token, favoreciendo la especialización de submodelos MLP en patrones distintos del espacio de caracteres.\n",
        "\n",
        "Con top-k=1, el MoE mantiene cómputo similar al Dense por token, pero aporta mayor ancho de parámetros y capacidad de especialización. En nuestro escenario, esa ganancia se reflejó en las curvas (loss/ppl), pero no generó un salto cualitativo equivalente en las muestras de texto. La razón principal es la escala (modelo pequeño) y la tokenización a nivel carácter, que acotan la transferencia de mejoras estadísticas a coherencia semántica visible.\n",
        "\n",
        "- MoE: mejor eficiencia estadística (menor loss/ppl) y potencial de especialización sin multiplicar el cómputo por token.  \n",
        "- Dense: arquitectura más simple y estable, con desempeño sólido para esta escala.  \n",
        "- En la práctica de este TP, MoE es mejor cuantitativamente, pero las muestras generadas no muestran diferencias sustanciales frente a Dense bajo los mismos parámetros de decodificación.\n",
        "\n",
        "Posibles próximos pasos:\n",
        "- Sustituir la tokenización por subpalabras (BPE/WordPiece) para desbloquear mejoras cualitativas.\n",
        "- Aumentar capacidad (n_embd, n_layer) y/o entrenar por más pasos con regularización de ruteo (p. ej., pérdidas de balanceo) para potenciar la especialización de expertos.\n",
        "- Afinar decodificación (p. ej., top-p adaptativo) y evaluar con métricas cualitativas (diversidad, repetición, coherencia a largo alcance)."
      ]
    }
  ],
  "metadata": {
    "accelerator": "GPU",
    "colab": {
      "gpuType": "T4",
      "provenance": []
    },
    "kernelspec": {
      "display_name": "venv",
      "language": "python",
      "name": "python3"
    },
    "language_info": {
      "codemirror_mode": {
        "name": "ipython",
        "version": 3
      },
      "file_extension": ".py",
      "mimetype": "text/x-python",
      "name": "python",
      "nbconvert_exporter": "python",
      "pygments_lexer": "ipython3",
      "version": "3.10.14"
    }
  },
  "nbformat": 4,
  "nbformat_minor": 5
}
